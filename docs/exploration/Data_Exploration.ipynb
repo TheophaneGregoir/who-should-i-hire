{
  "nbformat": 4,
  "nbformat_minor": 0,
  "metadata": {
    "colab": {
      "provenance": []
    },
    "kernelspec": {
      "name": "python3",
      "display_name": "Python 3"
    },
    "language_info": {
      "name": "python"
    }
  },
  "cells": [
    {
      "cell_type": "markdown",
      "source": [
        "# Preparation"
      ],
      "metadata": {
        "id": "X-7rbPQZp09w"
      }
    },
    {
      "cell_type": "markdown",
      "source": [
        "Installing necessary packages"
      ],
      "metadata": {
        "id": "IAZzZboIk0OC"
      }
    },
    {
      "cell_type": "code",
      "source": [
        "!pip install datasets\n",
        "!pip install pandas\n",
        "!pip install openai\n",
        "!pip install tiktoken\n",
        "!pip install matplotlib"
      ],
      "metadata": {
        "colab": {
          "base_uri": "https://localhost:8080/",
          "height": 0
        },
        "collapsed": true,
        "id": "QTTo3gYPkzQ-",
        "outputId": "e0d58639-75ea-4697-ecdd-b59e8c9528ee"
      },
      "execution_count": 3,
      "outputs": [
        {
          "output_type": "stream",
          "name": "stdout",
          "text": [
            "Requirement already satisfied: datasets in /usr/local/lib/python3.11/dist-packages (3.5.0)\n",
            "Requirement already satisfied: filelock in /usr/local/lib/python3.11/dist-packages (from datasets) (3.18.0)\n",
            "Requirement already satisfied: numpy>=1.17 in /usr/local/lib/python3.11/dist-packages (from datasets) (2.0.2)\n",
            "Requirement already satisfied: pyarrow>=15.0.0 in /usr/local/lib/python3.11/dist-packages (from datasets) (18.1.0)\n",
            "Requirement already satisfied: dill<0.3.9,>=0.3.0 in /usr/local/lib/python3.11/dist-packages (from datasets) (0.3.8)\n",
            "Requirement already satisfied: pandas in /usr/local/lib/python3.11/dist-packages (from datasets) (2.2.2)\n",
            "Requirement already satisfied: requests>=2.32.2 in /usr/local/lib/python3.11/dist-packages (from datasets) (2.32.3)\n",
            "Requirement already satisfied: tqdm>=4.66.3 in /usr/local/lib/python3.11/dist-packages (from datasets) (4.67.1)\n",
            "Requirement already satisfied: xxhash in /usr/local/lib/python3.11/dist-packages (from datasets) (3.5.0)\n",
            "Requirement already satisfied: multiprocess<0.70.17 in /usr/local/lib/python3.11/dist-packages (from datasets) (0.70.16)\n",
            "Requirement already satisfied: fsspec<=2024.12.0,>=2023.1.0 in /usr/local/lib/python3.11/dist-packages (from fsspec[http]<=2024.12.0,>=2023.1.0->datasets) (2024.12.0)\n",
            "Requirement already satisfied: aiohttp in /usr/local/lib/python3.11/dist-packages (from datasets) (3.11.15)\n",
            "Requirement already satisfied: huggingface-hub>=0.24.0 in /usr/local/lib/python3.11/dist-packages (from datasets) (0.30.1)\n",
            "Requirement already satisfied: packaging in /usr/local/lib/python3.11/dist-packages (from datasets) (24.2)\n",
            "Requirement already satisfied: pyyaml>=5.1 in /usr/local/lib/python3.11/dist-packages (from datasets) (6.0.2)\n",
            "Requirement already satisfied: aiohappyeyeballs>=2.3.0 in /usr/local/lib/python3.11/dist-packages (from aiohttp->datasets) (2.6.1)\n",
            "Requirement already satisfied: aiosignal>=1.1.2 in /usr/local/lib/python3.11/dist-packages (from aiohttp->datasets) (1.3.2)\n",
            "Requirement already satisfied: attrs>=17.3.0 in /usr/local/lib/python3.11/dist-packages (from aiohttp->datasets) (25.3.0)\n",
            "Requirement already satisfied: frozenlist>=1.1.1 in /usr/local/lib/python3.11/dist-packages (from aiohttp->datasets) (1.5.0)\n",
            "Requirement already satisfied: multidict<7.0,>=4.5 in /usr/local/lib/python3.11/dist-packages (from aiohttp->datasets) (6.3.2)\n",
            "Requirement already satisfied: propcache>=0.2.0 in /usr/local/lib/python3.11/dist-packages (from aiohttp->datasets) (0.3.1)\n",
            "Requirement already satisfied: yarl<2.0,>=1.17.0 in /usr/local/lib/python3.11/dist-packages (from aiohttp->datasets) (1.18.3)\n",
            "Requirement already satisfied: typing-extensions>=3.7.4.3 in /usr/local/lib/python3.11/dist-packages (from huggingface-hub>=0.24.0->datasets) (4.13.1)\n",
            "Requirement already satisfied: charset-normalizer<4,>=2 in /usr/local/lib/python3.11/dist-packages (from requests>=2.32.2->datasets) (3.4.1)\n",
            "Requirement already satisfied: idna<4,>=2.5 in /usr/local/lib/python3.11/dist-packages (from requests>=2.32.2->datasets) (3.10)\n",
            "Requirement already satisfied: urllib3<3,>=1.21.1 in /usr/local/lib/python3.11/dist-packages (from requests>=2.32.2->datasets) (2.3.0)\n",
            "Requirement already satisfied: certifi>=2017.4.17 in /usr/local/lib/python3.11/dist-packages (from requests>=2.32.2->datasets) (2025.1.31)\n",
            "Requirement already satisfied: python-dateutil>=2.8.2 in /usr/local/lib/python3.11/dist-packages (from pandas->datasets) (2.8.2)\n",
            "Requirement already satisfied: pytz>=2020.1 in /usr/local/lib/python3.11/dist-packages (from pandas->datasets) (2025.2)\n",
            "Requirement already satisfied: tzdata>=2022.7 in /usr/local/lib/python3.11/dist-packages (from pandas->datasets) (2025.2)\n",
            "Requirement already satisfied: six>=1.5 in /usr/local/lib/python3.11/dist-packages (from python-dateutil>=2.8.2->pandas->datasets) (1.17.0)\n",
            "Requirement already satisfied: pandas in /usr/local/lib/python3.11/dist-packages (2.2.2)\n",
            "Requirement already satisfied: numpy>=1.23.2 in /usr/local/lib/python3.11/dist-packages (from pandas) (2.0.2)\n",
            "Requirement already satisfied: python-dateutil>=2.8.2 in /usr/local/lib/python3.11/dist-packages (from pandas) (2.8.2)\n",
            "Requirement already satisfied: pytz>=2020.1 in /usr/local/lib/python3.11/dist-packages (from pandas) (2025.2)\n",
            "Requirement already satisfied: tzdata>=2022.7 in /usr/local/lib/python3.11/dist-packages (from pandas) (2025.2)\n",
            "Requirement already satisfied: six>=1.5 in /usr/local/lib/python3.11/dist-packages (from python-dateutil>=2.8.2->pandas) (1.17.0)\n",
            "Requirement already satisfied: openai in /usr/local/lib/python3.11/dist-packages (1.70.0)\n",
            "Requirement already satisfied: anyio<5,>=3.5.0 in /usr/local/lib/python3.11/dist-packages (from openai) (4.9.0)\n",
            "Requirement already satisfied: distro<2,>=1.7.0 in /usr/local/lib/python3.11/dist-packages (from openai) (1.9.0)\n",
            "Requirement already satisfied: httpx<1,>=0.23.0 in /usr/local/lib/python3.11/dist-packages (from openai) (0.28.1)\n",
            "Requirement already satisfied: jiter<1,>=0.4.0 in /usr/local/lib/python3.11/dist-packages (from openai) (0.9.0)\n",
            "Requirement already satisfied: pydantic<3,>=1.9.0 in /usr/local/lib/python3.11/dist-packages (from openai) (2.11.2)\n",
            "Requirement already satisfied: sniffio in /usr/local/lib/python3.11/dist-packages (from openai) (1.3.1)\n",
            "Requirement already satisfied: tqdm>4 in /usr/local/lib/python3.11/dist-packages (from openai) (4.67.1)\n",
            "Requirement already satisfied: typing-extensions<5,>=4.11 in /usr/local/lib/python3.11/dist-packages (from openai) (4.13.1)\n",
            "Requirement already satisfied: idna>=2.8 in /usr/local/lib/python3.11/dist-packages (from anyio<5,>=3.5.0->openai) (3.10)\n",
            "Requirement already satisfied: certifi in /usr/local/lib/python3.11/dist-packages (from httpx<1,>=0.23.0->openai) (2025.1.31)\n",
            "Requirement already satisfied: httpcore==1.* in /usr/local/lib/python3.11/dist-packages (from httpx<1,>=0.23.0->openai) (1.0.7)\n",
            "Requirement already satisfied: h11<0.15,>=0.13 in /usr/local/lib/python3.11/dist-packages (from httpcore==1.*->httpx<1,>=0.23.0->openai) (0.14.0)\n",
            "Requirement already satisfied: annotated-types>=0.6.0 in /usr/local/lib/python3.11/dist-packages (from pydantic<3,>=1.9.0->openai) (0.7.0)\n",
            "Requirement already satisfied: pydantic-core==2.33.1 in /usr/local/lib/python3.11/dist-packages (from pydantic<3,>=1.9.0->openai) (2.33.1)\n",
            "Requirement already satisfied: typing-inspection>=0.4.0 in /usr/local/lib/python3.11/dist-packages (from pydantic<3,>=1.9.0->openai) (0.4.0)\n",
            "Requirement already satisfied: tiktoken in /usr/local/lib/python3.11/dist-packages (0.9.0)\n",
            "Requirement already satisfied: regex>=2022.1.18 in /usr/local/lib/python3.11/dist-packages (from tiktoken) (2024.11.6)\n",
            "Requirement already satisfied: requests>=2.26.0 in /usr/local/lib/python3.11/dist-packages (from tiktoken) (2.32.3)\n",
            "Requirement already satisfied: charset-normalizer<4,>=2 in /usr/local/lib/python3.11/dist-packages (from requests>=2.26.0->tiktoken) (3.4.1)\n",
            "Requirement already satisfied: idna<4,>=2.5 in /usr/local/lib/python3.11/dist-packages (from requests>=2.26.0->tiktoken) (3.10)\n",
            "Requirement already satisfied: urllib3<3,>=1.21.1 in /usr/local/lib/python3.11/dist-packages (from requests>=2.26.0->tiktoken) (2.3.0)\n",
            "Requirement already satisfied: certifi>=2017.4.17 in /usr/local/lib/python3.11/dist-packages (from requests>=2.26.0->tiktoken) (2025.1.31)\n",
            "Requirement already satisfied: matplotlib in /usr/local/lib/python3.11/dist-packages (3.10.0)\n",
            "Requirement already satisfied: contourpy>=1.0.1 in /usr/local/lib/python3.11/dist-packages (from matplotlib) (1.3.1)\n",
            "Requirement already satisfied: cycler>=0.10 in /usr/local/lib/python3.11/dist-packages (from matplotlib) (0.12.1)\n",
            "Requirement already satisfied: fonttools>=4.22.0 in /usr/local/lib/python3.11/dist-packages (from matplotlib) (4.57.0)\n",
            "Requirement already satisfied: kiwisolver>=1.3.1 in /usr/local/lib/python3.11/dist-packages (from matplotlib) (1.4.8)\n",
            "Requirement already satisfied: numpy>=1.23 in /usr/local/lib/python3.11/dist-packages (from matplotlib) (2.0.2)\n",
            "Requirement already satisfied: packaging>=20.0 in /usr/local/lib/python3.11/dist-packages (from matplotlib) (24.2)\n",
            "Requirement already satisfied: pillow>=8 in /usr/local/lib/python3.11/dist-packages (from matplotlib) (11.1.0)\n",
            "Requirement already satisfied: pyparsing>=2.3.1 in /usr/local/lib/python3.11/dist-packages (from matplotlib) (3.2.3)\n",
            "Requirement already satisfied: python-dateutil>=2.7 in /usr/local/lib/python3.11/dist-packages (from matplotlib) (2.8.2)\n",
            "Requirement already satisfied: six>=1.5 in /usr/local/lib/python3.11/dist-packages (from python-dateutil>=2.7->matplotlib) (1.17.0)\n"
          ]
        }
      ]
    },
    {
      "cell_type": "code",
      "source": [
        "import requests\n",
        "import pandas as pd\n",
        "import matplotlib.pyplot as plt\n",
        "import tiktoken"
      ],
      "metadata": {
        "id": "faNs_8idz1WC"
      },
      "execution_count": 4,
      "outputs": []
    },
    {
      "cell_type": "markdown",
      "source": [
        "Downloading the full dataset to disk"
      ],
      "metadata": {
        "id": "kSb9cJExkz4L"
      }
    },
    {
      "cell_type": "code",
      "execution_count": 5,
      "metadata": {
        "colab": {
          "base_uri": "https://localhost:8080/",
          "height": 0
        },
        "id": "LiQlhUMGkOMu",
        "outputId": "913ea436-2183-4d77-d465-def1b41f911d"
      },
      "outputs": [
        {
          "output_type": "stream",
          "name": "stdout",
          "text": [
            "File downloaded successfully and saved as 'meta_Amazon_Fashion.jsonl'\n"
          ]
        }
      ],
      "source": [
        "# URL of the JSONL file\n",
        "url = \"https://huggingface.co/datasets/McAuley-Lab/Amazon-Reviews-2023/resolve/main/raw/meta_categories/meta_Amazon_Fashion.jsonl\"\n",
        "\n",
        "# Local filename to save the file\n",
        "output_file = \"meta_Amazon_Fashion.jsonl\"\n",
        "\n",
        "# Send GET request\n",
        "response = requests.get(url, stream=True)\n",
        "\n",
        "# Check if request was successful\n",
        "if response.status_code == 200:\n",
        "    with open(output_file, 'wb') as f:\n",
        "        for chunk in response.iter_content(chunk_size=8192):\n",
        "            f.write(chunk)\n",
        "    print(f\"File downloaded successfully and saved as '{output_file}'\")\n",
        "else:\n",
        "    print(f\"Failed to download file. Status code: {response.status_code}\")\n",
        "\n"
      ]
    },
    {
      "cell_type": "markdown",
      "source": [
        "# Qualitative exploration"
      ],
      "metadata": {
        "id": "TQI1yaggp6dD"
      }
    },
    {
      "cell_type": "markdown",
      "source": [
        "Importing an extract of the dataset"
      ],
      "metadata": {
        "id": "r8jvrji4pf_-"
      }
    },
    {
      "cell_type": "code",
      "source": [
        "# Path to the JSONL file\n",
        "file_path = \"meta_Amazon_Fashion.jsonl\"\n",
        "\n",
        "# Read the first 10000 lines manually\n",
        "with open(file_path, 'r', encoding='utf-8') as f:\n",
        "    lines = [next(f) for _ in range(10000)]\n",
        "\n",
        "# Convert the lines (as strings) into a DataFrame\n",
        "extract_df = pd.read_json(''.join(lines), lines=True)"
      ],
      "metadata": {
        "colab": {
          "base_uri": "https://localhost:8080/",
          "height": 0
        },
        "collapsed": true,
        "id": "lRXQ4bPclLt3",
        "outputId": "ea3ea900-0cd8-4996-91d0-83755b051214"
      },
      "execution_count": 6,
      "outputs": [
        {
          "output_type": "stream",
          "name": "stderr",
          "text": [
            "<ipython-input-6-d836a2f17d61>:9: FutureWarning: Passing literal json to 'read_json' is deprecated and will be removed in a future version. To read from a literal string, wrap it in a 'StringIO' object.\n",
            "  extract_df = pd.read_json(''.join(lines), lines=True)\n"
          ]
        }
      ]
    },
    {
      "cell_type": "code",
      "source": [
        "extract_df.info()"
      ],
      "metadata": {
        "colab": {
          "base_uri": "https://localhost:8080/",
          "height": 0
        },
        "id": "iAWFLIAsoKDM",
        "outputId": "5fa4898f-f085-4a3d-d050-5db679aed1fe"
      },
      "execution_count": 7,
      "outputs": [
        {
          "output_type": "stream",
          "name": "stdout",
          "text": [
            "<class 'pandas.core.frame.DataFrame'>\n",
            "RangeIndex: 10000 entries, 0 to 9999\n",
            "Data columns (total 14 columns):\n",
            " #   Column           Non-Null Count  Dtype  \n",
            "---  ------           --------------  -----  \n",
            " 0   main_category    10000 non-null  object \n",
            " 1   title            10000 non-null  object \n",
            " 2   average_rating   10000 non-null  float64\n",
            " 3   rating_number    10000 non-null  int64  \n",
            " 4   features         10000 non-null  object \n",
            " 5   description      10000 non-null  object \n",
            " 6   price            1104 non-null   float64\n",
            " 7   images           10000 non-null  object \n",
            " 8   videos           10000 non-null  object \n",
            " 9   store            9668 non-null   object \n",
            " 10  categories       10000 non-null  object \n",
            " 11  details          10000 non-null  object \n",
            " 12  parent_asin      10000 non-null  object \n",
            " 13  bought_together  0 non-null      float64\n",
            "dtypes: float64(3), int64(1), object(10)\n",
            "memory usage: 1.1+ MB\n"
          ]
        }
      ]
    },
    {
      "cell_type": "code",
      "source": [
        "extract_df.head(5)"
      ],
      "metadata": {
        "colab": {
          "base_uri": "https://localhost:8080/",
          "height": 643
        },
        "id": "yxr4pgGPpBha",
        "outputId": "5157b3e9-681c-4a63-8633-779f82647eb1"
      },
      "execution_count": 8,
      "outputs": [
        {
          "output_type": "execute_result",
          "data": {
            "text/plain": [
              "    main_category                                              title  \\\n",
              "0  AMAZON FASHION  YUEDGE 5 Pairs Men's Moisture Control Cushione...   \n",
              "1  AMAZON FASHION  DouBCQ Women's Palazzo Lounge Wide Leg Casual ...   \n",
              "2  AMAZON FASHION  Pastel by Vivienne Honey Vanilla Girls' Trapez...   \n",
              "3  AMAZON FASHION                                   Mento Streamtail   \n",
              "4  AMAZON FASHION  RONNOX Women's 3-Pairs Bright Colored Calf Com...   \n",
              "\n",
              "   average_rating  rating_number  \\\n",
              "0             4.6             16   \n",
              "1             4.1              7   \n",
              "2             4.3             11   \n",
              "3             2.0              1   \n",
              "4             4.3           3032   \n",
              "\n",
              "                                            features  \\\n",
              "0                                                 []   \n",
              "1                 [Drawstring closure, Machine Wash]   \n",
              "2                   [Zipper closure, Hand Wash Only]   \n",
              "3  [Thermoplastic Rubber sole, High Density Premi...   \n",
              "4  [Pull On closure, Size Guide: \"S\" fits calf 10...   \n",
              "\n",
              "                                         description  price  \\\n",
              "0                                                 []    NaN   \n",
              "1                                                 []    NaN   \n",
              "2                                                 []    NaN   \n",
              "3  [Slip on the Women's Mento and you're ready to...  29.81   \n",
              "4  [Ronnox Calf Sleeves - Allowing Your Body to P...  17.99   \n",
              "\n",
              "                                              images  \\\n",
              "0  [{'thumb': 'https://m.media-amazon.com/images/...   \n",
              "1  [{'thumb': 'https://m.media-amazon.com/images/...   \n",
              "2  [{'thumb': 'https://m.media-amazon.com/images/...   \n",
              "3  [{'thumb': 'https://m.media-amazon.com/images/...   \n",
              "4  [{'thumb': 'https://m.media-amazon.com/images/...   \n",
              "\n",
              "                                              videos               store  \\\n",
              "0                                                 []            GiveGift   \n",
              "1                                                 []              DouBCQ   \n",
              "2                                                 []  Pastel by Vivienne   \n",
              "3                                                 []          Guy Harvey   \n",
              "4  [{'title': 'HONEST Review: RONNOX Women's 3-Pa...              RONNOX   \n",
              "\n",
              "  categories                                            details parent_asin  \\\n",
              "0         []  {'Package Dimensions': '10.31 x 8.5 x 1.73 inc...  B08BHN9PK5   \n",
              "1         []  {'Package Dimensions': '15 x 10.2 x 0.4 inches...  B08R39MRDW   \n",
              "2         []  {'Is Discontinued By Manufacturer': 'No', 'Pac...  B077KJHCJ4   \n",
              "3         []  {'Package Dimensions': '11.22 x 4.72 x 4.33 in...  B0811M2JG9   \n",
              "4         []  {'Is Discontinued By Manufacturer': 'No', 'Pac...  B07SB2892S   \n",
              "\n",
              "   bought_together  \n",
              "0              NaN  \n",
              "1              NaN  \n",
              "2              NaN  \n",
              "3              NaN  \n",
              "4              NaN  "
            ],
            "text/html": [
              "\n",
              "  <div id=\"df-6d935964-1777-4530-8485-d49cafa400a4\" class=\"colab-df-container\">\n",
              "    <div>\n",
              "<style scoped>\n",
              "    .dataframe tbody tr th:only-of-type {\n",
              "        vertical-align: middle;\n",
              "    }\n",
              "\n",
              "    .dataframe tbody tr th {\n",
              "        vertical-align: top;\n",
              "    }\n",
              "\n",
              "    .dataframe thead th {\n",
              "        text-align: right;\n",
              "    }\n",
              "</style>\n",
              "<table border=\"1\" class=\"dataframe\">\n",
              "  <thead>\n",
              "    <tr style=\"text-align: right;\">\n",
              "      <th></th>\n",
              "      <th>main_category</th>\n",
              "      <th>title</th>\n",
              "      <th>average_rating</th>\n",
              "      <th>rating_number</th>\n",
              "      <th>features</th>\n",
              "      <th>description</th>\n",
              "      <th>price</th>\n",
              "      <th>images</th>\n",
              "      <th>videos</th>\n",
              "      <th>store</th>\n",
              "      <th>categories</th>\n",
              "      <th>details</th>\n",
              "      <th>parent_asin</th>\n",
              "      <th>bought_together</th>\n",
              "    </tr>\n",
              "  </thead>\n",
              "  <tbody>\n",
              "    <tr>\n",
              "      <th>0</th>\n",
              "      <td>AMAZON FASHION</td>\n",
              "      <td>YUEDGE 5 Pairs Men's Moisture Control Cushione...</td>\n",
              "      <td>4.6</td>\n",
              "      <td>16</td>\n",
              "      <td>[]</td>\n",
              "      <td>[]</td>\n",
              "      <td>NaN</td>\n",
              "      <td>[{'thumb': 'https://m.media-amazon.com/images/...</td>\n",
              "      <td>[]</td>\n",
              "      <td>GiveGift</td>\n",
              "      <td>[]</td>\n",
              "      <td>{'Package Dimensions': '10.31 x 8.5 x 1.73 inc...</td>\n",
              "      <td>B08BHN9PK5</td>\n",
              "      <td>NaN</td>\n",
              "    </tr>\n",
              "    <tr>\n",
              "      <th>1</th>\n",
              "      <td>AMAZON FASHION</td>\n",
              "      <td>DouBCQ Women's Palazzo Lounge Wide Leg Casual ...</td>\n",
              "      <td>4.1</td>\n",
              "      <td>7</td>\n",
              "      <td>[Drawstring closure, Machine Wash]</td>\n",
              "      <td>[]</td>\n",
              "      <td>NaN</td>\n",
              "      <td>[{'thumb': 'https://m.media-amazon.com/images/...</td>\n",
              "      <td>[]</td>\n",
              "      <td>DouBCQ</td>\n",
              "      <td>[]</td>\n",
              "      <td>{'Package Dimensions': '15 x 10.2 x 0.4 inches...</td>\n",
              "      <td>B08R39MRDW</td>\n",
              "      <td>NaN</td>\n",
              "    </tr>\n",
              "    <tr>\n",
              "      <th>2</th>\n",
              "      <td>AMAZON FASHION</td>\n",
              "      <td>Pastel by Vivienne Honey Vanilla Girls' Trapez...</td>\n",
              "      <td>4.3</td>\n",
              "      <td>11</td>\n",
              "      <td>[Zipper closure, Hand Wash Only]</td>\n",
              "      <td>[]</td>\n",
              "      <td>NaN</td>\n",
              "      <td>[{'thumb': 'https://m.media-amazon.com/images/...</td>\n",
              "      <td>[]</td>\n",
              "      <td>Pastel by Vivienne</td>\n",
              "      <td>[]</td>\n",
              "      <td>{'Is Discontinued By Manufacturer': 'No', 'Pac...</td>\n",
              "      <td>B077KJHCJ4</td>\n",
              "      <td>NaN</td>\n",
              "    </tr>\n",
              "    <tr>\n",
              "      <th>3</th>\n",
              "      <td>AMAZON FASHION</td>\n",
              "      <td>Mento Streamtail</td>\n",
              "      <td>2.0</td>\n",
              "      <td>1</td>\n",
              "      <td>[Thermoplastic Rubber sole, High Density Premi...</td>\n",
              "      <td>[Slip on the Women's Mento and you're ready to...</td>\n",
              "      <td>29.81</td>\n",
              "      <td>[{'thumb': 'https://m.media-amazon.com/images/...</td>\n",
              "      <td>[]</td>\n",
              "      <td>Guy Harvey</td>\n",
              "      <td>[]</td>\n",
              "      <td>{'Package Dimensions': '11.22 x 4.72 x 4.33 in...</td>\n",
              "      <td>B0811M2JG9</td>\n",
              "      <td>NaN</td>\n",
              "    </tr>\n",
              "    <tr>\n",
              "      <th>4</th>\n",
              "      <td>AMAZON FASHION</td>\n",
              "      <td>RONNOX Women's 3-Pairs Bright Colored Calf Com...</td>\n",
              "      <td>4.3</td>\n",
              "      <td>3032</td>\n",
              "      <td>[Pull On closure, Size Guide: \"S\" fits calf 10...</td>\n",
              "      <td>[Ronnox Calf Sleeves - Allowing Your Body to P...</td>\n",
              "      <td>17.99</td>\n",
              "      <td>[{'thumb': 'https://m.media-amazon.com/images/...</td>\n",
              "      <td>[{'title': 'HONEST Review: RONNOX Women's 3-Pa...</td>\n",
              "      <td>RONNOX</td>\n",
              "      <td>[]</td>\n",
              "      <td>{'Is Discontinued By Manufacturer': 'No', 'Pac...</td>\n",
              "      <td>B07SB2892S</td>\n",
              "      <td>NaN</td>\n",
              "    </tr>\n",
              "  </tbody>\n",
              "</table>\n",
              "</div>\n",
              "    <div class=\"colab-df-buttons\">\n",
              "\n",
              "  <div class=\"colab-df-container\">\n",
              "    <button class=\"colab-df-convert\" onclick=\"convertToInteractive('df-6d935964-1777-4530-8485-d49cafa400a4')\"\n",
              "            title=\"Convert this dataframe to an interactive table.\"\n",
              "            style=\"display:none;\">\n",
              "\n",
              "  <svg xmlns=\"http://www.w3.org/2000/svg\" height=\"24px\" viewBox=\"0 -960 960 960\">\n",
              "    <path d=\"M120-120v-720h720v720H120Zm60-500h600v-160H180v160Zm220 220h160v-160H400v160Zm0 220h160v-160H400v160ZM180-400h160v-160H180v160Zm440 0h160v-160H620v160ZM180-180h160v-160H180v160Zm440 0h160v-160H620v160Z\"/>\n",
              "  </svg>\n",
              "    </button>\n",
              "\n",
              "  <style>\n",
              "    .colab-df-container {\n",
              "      display:flex;\n",
              "      gap: 12px;\n",
              "    }\n",
              "\n",
              "    .colab-df-convert {\n",
              "      background-color: #E8F0FE;\n",
              "      border: none;\n",
              "      border-radius: 50%;\n",
              "      cursor: pointer;\n",
              "      display: none;\n",
              "      fill: #1967D2;\n",
              "      height: 32px;\n",
              "      padding: 0 0 0 0;\n",
              "      width: 32px;\n",
              "    }\n",
              "\n",
              "    .colab-df-convert:hover {\n",
              "      background-color: #E2EBFA;\n",
              "      box-shadow: 0px 1px 2px rgba(60, 64, 67, 0.3), 0px 1px 3px 1px rgba(60, 64, 67, 0.15);\n",
              "      fill: #174EA6;\n",
              "    }\n",
              "\n",
              "    .colab-df-buttons div {\n",
              "      margin-bottom: 4px;\n",
              "    }\n",
              "\n",
              "    [theme=dark] .colab-df-convert {\n",
              "      background-color: #3B4455;\n",
              "      fill: #D2E3FC;\n",
              "    }\n",
              "\n",
              "    [theme=dark] .colab-df-convert:hover {\n",
              "      background-color: #434B5C;\n",
              "      box-shadow: 0px 1px 3px 1px rgba(0, 0, 0, 0.15);\n",
              "      filter: drop-shadow(0px 1px 2px rgba(0, 0, 0, 0.3));\n",
              "      fill: #FFFFFF;\n",
              "    }\n",
              "  </style>\n",
              "\n",
              "    <script>\n",
              "      const buttonEl =\n",
              "        document.querySelector('#df-6d935964-1777-4530-8485-d49cafa400a4 button.colab-df-convert');\n",
              "      buttonEl.style.display =\n",
              "        google.colab.kernel.accessAllowed ? 'block' : 'none';\n",
              "\n",
              "      async function convertToInteractive(key) {\n",
              "        const element = document.querySelector('#df-6d935964-1777-4530-8485-d49cafa400a4');\n",
              "        const dataTable =\n",
              "          await google.colab.kernel.invokeFunction('convertToInteractive',\n",
              "                                                    [key], {});\n",
              "        if (!dataTable) return;\n",
              "\n",
              "        const docLinkHtml = 'Like what you see? Visit the ' +\n",
              "          '<a target=\"_blank\" href=https://colab.research.google.com/notebooks/data_table.ipynb>data table notebook</a>'\n",
              "          + ' to learn more about interactive tables.';\n",
              "        element.innerHTML = '';\n",
              "        dataTable['output_type'] = 'display_data';\n",
              "        await google.colab.output.renderOutput(dataTable, element);\n",
              "        const docLink = document.createElement('div');\n",
              "        docLink.innerHTML = docLinkHtml;\n",
              "        element.appendChild(docLink);\n",
              "      }\n",
              "    </script>\n",
              "  </div>\n",
              "\n",
              "\n",
              "<div id=\"df-6b285c8c-1f47-4d57-bd9c-0d16a9c72c0f\">\n",
              "  <button class=\"colab-df-quickchart\" onclick=\"quickchart('df-6b285c8c-1f47-4d57-bd9c-0d16a9c72c0f')\"\n",
              "            title=\"Suggest charts\"\n",
              "            style=\"display:none;\">\n",
              "\n",
              "<svg xmlns=\"http://www.w3.org/2000/svg\" height=\"24px\"viewBox=\"0 0 24 24\"\n",
              "     width=\"24px\">\n",
              "    <g>\n",
              "        <path d=\"M19 3H5c-1.1 0-2 .9-2 2v14c0 1.1.9 2 2 2h14c1.1 0 2-.9 2-2V5c0-1.1-.9-2-2-2zM9 17H7v-7h2v7zm4 0h-2V7h2v10zm4 0h-2v-4h2v4z\"/>\n",
              "    </g>\n",
              "</svg>\n",
              "  </button>\n",
              "\n",
              "<style>\n",
              "  .colab-df-quickchart {\n",
              "      --bg-color: #E8F0FE;\n",
              "      --fill-color: #1967D2;\n",
              "      --hover-bg-color: #E2EBFA;\n",
              "      --hover-fill-color: #174EA6;\n",
              "      --disabled-fill-color: #AAA;\n",
              "      --disabled-bg-color: #DDD;\n",
              "  }\n",
              "\n",
              "  [theme=dark] .colab-df-quickchart {\n",
              "      --bg-color: #3B4455;\n",
              "      --fill-color: #D2E3FC;\n",
              "      --hover-bg-color: #434B5C;\n",
              "      --hover-fill-color: #FFFFFF;\n",
              "      --disabled-bg-color: #3B4455;\n",
              "      --disabled-fill-color: #666;\n",
              "  }\n",
              "\n",
              "  .colab-df-quickchart {\n",
              "    background-color: var(--bg-color);\n",
              "    border: none;\n",
              "    border-radius: 50%;\n",
              "    cursor: pointer;\n",
              "    display: none;\n",
              "    fill: var(--fill-color);\n",
              "    height: 32px;\n",
              "    padding: 0;\n",
              "    width: 32px;\n",
              "  }\n",
              "\n",
              "  .colab-df-quickchart:hover {\n",
              "    background-color: var(--hover-bg-color);\n",
              "    box-shadow: 0 1px 2px rgba(60, 64, 67, 0.3), 0 1px 3px 1px rgba(60, 64, 67, 0.15);\n",
              "    fill: var(--button-hover-fill-color);\n",
              "  }\n",
              "\n",
              "  .colab-df-quickchart-complete:disabled,\n",
              "  .colab-df-quickchart-complete:disabled:hover {\n",
              "    background-color: var(--disabled-bg-color);\n",
              "    fill: var(--disabled-fill-color);\n",
              "    box-shadow: none;\n",
              "  }\n",
              "\n",
              "  .colab-df-spinner {\n",
              "    border: 2px solid var(--fill-color);\n",
              "    border-color: transparent;\n",
              "    border-bottom-color: var(--fill-color);\n",
              "    animation:\n",
              "      spin 1s steps(1) infinite;\n",
              "  }\n",
              "\n",
              "  @keyframes spin {\n",
              "    0% {\n",
              "      border-color: transparent;\n",
              "      border-bottom-color: var(--fill-color);\n",
              "      border-left-color: var(--fill-color);\n",
              "    }\n",
              "    20% {\n",
              "      border-color: transparent;\n",
              "      border-left-color: var(--fill-color);\n",
              "      border-top-color: var(--fill-color);\n",
              "    }\n",
              "    30% {\n",
              "      border-color: transparent;\n",
              "      border-left-color: var(--fill-color);\n",
              "      border-top-color: var(--fill-color);\n",
              "      border-right-color: var(--fill-color);\n",
              "    }\n",
              "    40% {\n",
              "      border-color: transparent;\n",
              "      border-right-color: var(--fill-color);\n",
              "      border-top-color: var(--fill-color);\n",
              "    }\n",
              "    60% {\n",
              "      border-color: transparent;\n",
              "      border-right-color: var(--fill-color);\n",
              "    }\n",
              "    80% {\n",
              "      border-color: transparent;\n",
              "      border-right-color: var(--fill-color);\n",
              "      border-bottom-color: var(--fill-color);\n",
              "    }\n",
              "    90% {\n",
              "      border-color: transparent;\n",
              "      border-bottom-color: var(--fill-color);\n",
              "    }\n",
              "  }\n",
              "</style>\n",
              "\n",
              "  <script>\n",
              "    async function quickchart(key) {\n",
              "      const quickchartButtonEl =\n",
              "        document.querySelector('#' + key + ' button');\n",
              "      quickchartButtonEl.disabled = true;  // To prevent multiple clicks.\n",
              "      quickchartButtonEl.classList.add('colab-df-spinner');\n",
              "      try {\n",
              "        const charts = await google.colab.kernel.invokeFunction(\n",
              "            'suggestCharts', [key], {});\n",
              "      } catch (error) {\n",
              "        console.error('Error during call to suggestCharts:', error);\n",
              "      }\n",
              "      quickchartButtonEl.classList.remove('colab-df-spinner');\n",
              "      quickchartButtonEl.classList.add('colab-df-quickchart-complete');\n",
              "    }\n",
              "    (() => {\n",
              "      let quickchartButtonEl =\n",
              "        document.querySelector('#df-6b285c8c-1f47-4d57-bd9c-0d16a9c72c0f button');\n",
              "      quickchartButtonEl.style.display =\n",
              "        google.colab.kernel.accessAllowed ? 'block' : 'none';\n",
              "    })();\n",
              "  </script>\n",
              "</div>\n",
              "\n",
              "    </div>\n",
              "  </div>\n"
            ],
            "application/vnd.google.colaboratory.intrinsic+json": {
              "type": "dataframe",
              "variable_name": "extract_df",
              "summary": "{\n  \"name\": \"extract_df\",\n  \"rows\": 10000,\n  \"fields\": [\n    {\n      \"column\": \"main_category\",\n      \"properties\": {\n        \"dtype\": \"category\",\n        \"num_unique_values\": 1,\n        \"samples\": [\n          \"AMAZON FASHION\"\n        ],\n        \"semantic_type\": \"\",\n        \"description\": \"\"\n      }\n    },\n    {\n      \"column\": \"title\",\n      \"properties\": {\n        \"dtype\": \"string\",\n        \"num_unique_values\": 9971,\n        \"samples\": [\n          \"Sublime 40oz to Freedom Vintage Adjustable Baseball Cap Denim Dad Hat\"\n        ],\n        \"semantic_type\": \"\",\n        \"description\": \"\"\n      }\n    },\n    {\n      \"column\": \"average_rating\",\n      \"properties\": {\n        \"dtype\": \"number\",\n        \"std\": 0.9504594295984958,\n        \"min\": 1.0,\n        \"max\": 5.0,\n        \"num_unique_values\": 39,\n        \"samples\": [\n          1.4\n        ],\n        \"semantic_type\": \"\",\n        \"description\": \"\"\n      }\n    },\n    {\n      \"column\": \"rating_number\",\n      \"properties\": {\n        \"dtype\": \"number\",\n        \"std\": 744,\n        \"min\": 1,\n        \"max\": 36058,\n        \"num_unique_values\": 431,\n        \"samples\": [\n          2099\n        ],\n        \"semantic_type\": \"\",\n        \"description\": \"\"\n      }\n    },\n    {\n      \"column\": \"features\",\n      \"properties\": {\n        \"dtype\": \"object\",\n        \"semantic_type\": \"\",\n        \"description\": \"\"\n      }\n    },\n    {\n      \"column\": \"description\",\n      \"properties\": {\n        \"dtype\": \"object\",\n        \"semantic_type\": \"\",\n        \"description\": \"\"\n      }\n    },\n    {\n      \"column\": \"price\",\n      \"properties\": {\n        \"dtype\": \"number\",\n        \"std\": 46.34271892178256,\n        \"min\": 0.01,\n        \"max\": 489.99,\n        \"num_unique_values\": 464,\n        \"samples\": [\n          10.99\n        ],\n        \"semantic_type\": \"\",\n        \"description\": \"\"\n      }\n    },\n    {\n      \"column\": \"images\",\n      \"properties\": {\n        \"dtype\": \"object\",\n        \"semantic_type\": \"\",\n        \"description\": \"\"\n      }\n    },\n    {\n      \"column\": \"videos\",\n      \"properties\": {\n        \"dtype\": \"object\",\n        \"semantic_type\": \"\",\n        \"description\": \"\"\n      }\n    },\n    {\n      \"column\": \"store\",\n      \"properties\": {\n        \"dtype\": \"string\",\n        \"num_unique_values\": 6358,\n        \"samples\": [\n          \"Best Wing Charms\"\n        ],\n        \"semantic_type\": \"\",\n        \"description\": \"\"\n      }\n    },\n    {\n      \"column\": \"categories\",\n      \"properties\": {\n        \"dtype\": \"object\",\n        \"semantic_type\": \"\",\n        \"description\": \"\"\n      }\n    },\n    {\n      \"column\": \"details\",\n      \"properties\": {\n        \"dtype\": \"object\",\n        \"semantic_type\": \"\",\n        \"description\": \"\"\n      }\n    },\n    {\n      \"column\": \"parent_asin\",\n      \"properties\": {\n        \"dtype\": \"string\",\n        \"num_unique_values\": 10000,\n        \"samples\": [\n          \"B07PFR4GH1\"\n        ],\n        \"semantic_type\": \"\",\n        \"description\": \"\"\n      }\n    },\n    {\n      \"column\": \"bought_together\",\n      \"properties\": {\n        \"dtype\": \"number\",\n        \"std\": null,\n        \"min\": null,\n        \"max\": null,\n        \"num_unique_values\": 0,\n        \"samples\": [],\n        \"semantic_type\": \"\",\n        \"description\": \"\"\n      }\n    }\n  ]\n}"
            }
          },
          "metadata": {},
          "execution_count": 8
        }
      ]
    },
    {
      "cell_type": "markdown",
      "source": [
        "Let's check randomly the content of the text fields: title / description / features"
      ],
      "metadata": {
        "id": "omSFX7Cw3rJ2"
      }
    },
    {
      "cell_type": "code",
      "source": [
        "random_rows = extract_df.sample(n=5)\n",
        "\n",
        "# Print the content of the \"description\" column for the selected rows\n",
        "print(\"Randomly selected titles:\")\n",
        "for t in random_rows['title'].to_list():\n",
        "  print(t)\n",
        "print(\"============================================================\")\n",
        "print(\"============================================================\")\n",
        "print(\"Randomly selected descriptions:\")\n",
        "for d in random_rows['description'].to_list():\n",
        "  print(d)\n",
        "print(\"============================================================\")\n",
        "print(\"============================================================\")\n",
        "print(\"Randomly selected features:\")\n",
        "for f in random_rows['features'].to_list():\n",
        "  print(f)\n",
        "print(\"============================================================\")\n",
        "print(\"============================================================\")\n",
        "print(\"Randomly selected categories:\")\n",
        "for c in random_rows['categories'].to_list():\n",
        "  print(c)\n",
        "print(\"============================================================\")\n",
        "print(\"============================================================\")\n",
        "print(\"Randomly selected details:\")\n",
        "for x in random_rows['details'].to_list():\n",
        "  print(x)\n",
        "print(\"Randomly selected images:\")\n",
        "for i in random_rows['images'].to_list():\n",
        "  print(i)"
      ],
      "metadata": {
        "colab": {
          "base_uri": "https://localhost:8080/",
          "height": 0
        },
        "id": "pi_4AG5G0w58",
        "outputId": "f758390c-38bd-4a11-c565-92339da559b6"
      },
      "execution_count": 9,
      "outputs": [
        {
          "output_type": "stream",
          "name": "stdout",
          "text": [
            "Randomly selected titles:\n",
            "8 Pieces Old Man Costume Grandpa Costume Kit, Wig Walking Cane Glasses Faux Eyebrows Artificial Mustache Long Faux Beard Suspenders and Bow Tie for Halloween (Dark Gray,Classic)\n",
            "Women Casual Loose Turn Down Collar Solid Color V Neck Long Sleeve Button Down Shirts Blouse Top Plus Size Size XXL(US 10-12) (White)\n",
            "Huk Men's Double Header Ice Blue XXL\n",
            "Nightmare on Elm Street Freddy Krueger Airbrushed Face Men's Shirt, Large\n",
            "WOOSEA Women's Short Sleeve Colorblock Slim Bodycon Business Pencil Dress (X-Large, Black+Red)\n",
            "============================================================\n",
            "============================================================\n",
            "Randomly selected descriptions:\n",
            "['Features:Widely applicable: This old man wig set is suitable for sharing among friends at Halloween parties, graduation parties, dress up events, science theme costume party, novelty fancy dress gatherings, or even as a regular party accessory.Easy to apply: You can wear the mesh cap first, then wear the wig; And the fake mustache eyebrows set is self-adhesive, you just need to peel off the white film on the back of the fake mustache before use, then stick the product on your skin.Specifications:Color: classic colorsMaterial: synthetic fiber, plastic, metal and so onSize (approx.): Inflatable cane: 35 inchOld man wig: one size fits mostSuspenders: 1 x 25.59 inchPackage includes:1 x Old man fluffy bald head wig1 x Inflatable cane1 Pair glasses1 Pair fake eyebrows1 x Fake mustache1 x Long fake beard1 x Suspender 1 x Bow tieNote:Due to manual measurement, please allow slight differences on size.There might have slight color differences due to different displays.']\n",
            "[]\n",
            "['This long sleeve crew has all the essential technologies and is packed with performance to handle whatever being on the water has to throw at you. The Huk Performance Vented Long Sleeve is great for layering or wearing by itself and features Subphantis patterns. Sun Protection Superior Breath-Ability Stain Release Moisture Transport Side Mesh Insert for Venting 100% Polyester']\n",
            "[]\n",
            "[]\n",
            "============================================================\n",
            "============================================================\n",
            "Randomly selected features:\n",
            "['Package includes: our package includes 1 piece old man fluffy bald head wig, 1 piece walking cane, 1 pair glasses, 1 pair fake eyebrows, 1 piece fake mustache, 1 piece long fake beard, 1 piece suspender and 1 piece bow tie, a nice combination for old man cosplay', 'Quality material: the fluffy bald head wig is made of synthetic fiber; One size fits most teens and adults, the cane is about 35 inch in length when inflated and can be applied as a walking tool for playing or as a cute gift for men, and the metal square framed glasses can increase the appearance of your age', 'Suspenders and bow tie: the suspender measures approx. 1 inch in width, and 25.59 inch in total length, suitable for most teens and adults, the bow tie made of quality ribbon, looks so elegant and beautiful', 'Widely applicable: this old man wig set is suitable for sharing among friends at Halloween parties, graduation parties, dress up events, science theme costume party, novelty dress gatherings, or even as a regular party accessory', 'Easy to apply: you can wear the mesh cap first, then wear the wig; And the fake mustache eyebrows set is self-adhesive, you just need to peel off the white film on the back of the fake mustache before use, then stick the product on your skin']\n",
            "['Button closure']\n",
            "['Mesh', 'Machine Wash']\n",
            "['Pull On closure', 'Machine Wash']\n",
            "['Pull On closure']\n",
            "============================================================\n",
            "============================================================\n",
            "Randomly selected categories:\n",
            "[]\n",
            "[]\n",
            "[]\n",
            "[]\n",
            "[]\n",
            "============================================================\n",
            "============================================================\n",
            "Randomly selected details:\n",
            "{'Package Dimensions': '12.01 x 6.54 x 2.44 inches; 9.91 Ounces', 'Item model number': 'WILLBOND-2528', 'Department': 'unisex-adult', 'Manufacturer': 'WILLBOND'}\n",
            "{'Is Discontinued By Manufacturer': 'No', 'Product Dimensions': '5.91 x 3.94 x 1.18 inches; 3.2 Ounces', 'Item model number': 'ZMY127W-XXL', 'Date First Available': 'July 12, 2018'}\n",
            "{'Product Dimensions': '1 x 1 x 1 inches; 6.08 Ounces', 'Item model number': 'H1200136', 'Department': 'mens', 'Date First Available': 'August 24, 2018'}\n",
            "{'Package Dimensions': '11.34 x 9.13 x 0.87 inches; 7.2 Ounces', 'Date First Available': 'July 8, 2017'}\n",
            "{'Is Discontinued By Manufacturer': 'No', 'Package Dimensions': '12.52 x 10.31 x 1.42 inches; 13.62 Ounces', 'Item model number': 'WS63119-19', 'Date First Available': 'December 20, 2017'}\n",
            "Randomly selected images:\n",
            "[{'thumb': 'https://m.media-amazon.com/images/I/51WISuaOxgL._SS40_.jpg', 'large': 'https://m.media-amazon.com/images/I/51WISuaOxgL.jpg', 'variant': 'MAIN', 'hi_res': 'https://m.media-amazon.com/images/I/81aQsU0KL6L._SL1500_.jpg'}, {'thumb': 'https://m.media-amazon.com/images/I/51RwlQu92GL._SS40_.jpg', 'large': 'https://m.media-amazon.com/images/I/51RwlQu92GL.jpg', 'variant': 'PT01', 'hi_res': None}, {'thumb': 'https://m.media-amazon.com/images/I/51pSqZsaMRL._SS40_.jpg', 'large': 'https://m.media-amazon.com/images/I/51pSqZsaMRL.jpg', 'variant': 'PT02', 'hi_res': None}, {'thumb': 'https://m.media-amazon.com/images/I/41yE7Ri8wPL._SS40_.jpg', 'large': 'https://m.media-amazon.com/images/I/41yE7Ri8wPL.jpg', 'variant': 'PT03', 'hi_res': 'https://m.media-amazon.com/images/I/610X3vcA7kL._SL1500_.jpg'}, {'thumb': 'https://m.media-amazon.com/images/I/41-Q263d8WL._SS40_.jpg', 'large': 'https://m.media-amazon.com/images/I/41-Q263d8WL.jpg', 'variant': 'PT04', 'hi_res': None}, {'thumb': 'https://m.media-amazon.com/images/I/4115QBmBbEL._SS40_.jpg', 'large': 'https://m.media-amazon.com/images/I/4115QBmBbEL.jpg', 'variant': 'PT05', 'hi_res': None}, {'thumb': 'https://m.media-amazon.com/images/I/51zgKkCVO-L._SS40_.jpg', 'large': 'https://m.media-amazon.com/images/I/51zgKkCVO-L.jpg', 'variant': 'PT06', 'hi_res': 'https://m.media-amazon.com/images/I/81uRUhj4hpL._SL1500_.jpg'}]\n",
            "[{'thumb': 'https://m.media-amazon.com/images/I/41oarXwcdUL._AC_SR38,50_.jpg', 'large': 'https://m.media-amazon.com/images/I/41oarXwcdUL._AC_.jpg', 'variant': 'MAIN', 'hi_res': 'https://m.media-amazon.com/images/I/511F1-81qSL._AC_UL1100_.jpg'}]\n",
            "[{'thumb': 'https://m.media-amazon.com/images/I/41Er52qXv8L._AC_SR38,50_.jpg', 'large': 'https://m.media-amazon.com/images/I/41Er52qXv8L._AC_.jpg', 'variant': 'MAIN', 'hi_res': 'https://m.media-amazon.com/images/I/71gjXcfs-2L._AC_UL1500_.jpg'}, {'thumb': 'https://m.media-amazon.com/images/I/31YiOGQeMtL._AC_SR38,50_.jpg', 'large': 'https://m.media-amazon.com/images/I/31YiOGQeMtL._AC_.jpg', 'variant': 'PT01', 'hi_res': 'https://m.media-amazon.com/images/I/71jHSc++IbL._AC_UL1500_.jpg'}]\n",
            "[{'thumb': 'https://m.media-amazon.com/images/I/41rqQBu8aCL._AC_SR38,50_.jpg', 'large': 'https://m.media-amazon.com/images/I/41rqQBu8aCL._AC_.jpg', 'variant': 'MAIN', 'hi_res': 'https://m.media-amazon.com/images/I/61RcXY+0kfL._AC_UL1108_.jpg'}]\n",
            "[{'thumb': 'https://m.media-amazon.com/images/I/413U3wxxL4L._AC_SR38,50_.jpg', 'large': 'https://m.media-amazon.com/images/I/413U3wxxL4L._AC_.jpg', 'variant': 'MAIN', 'hi_res': 'https://m.media-amazon.com/images/I/61I2InkWlqL._AC_UL1500_.jpg'}, {'thumb': 'https://m.media-amazon.com/images/I/313qPdQw1YL._AC_SR38,50_.jpg', 'large': 'https://m.media-amazon.com/images/I/313qPdQw1YL._AC_.jpg', 'variant': 'PT01', 'hi_res': 'https://m.media-amazon.com/images/I/61-uBoZ+PnL._AC_UL1500_.jpg'}]\n"
          ]
        }
      ]
    },
    {
      "cell_type": "markdown",
      "source": [
        "## Conclusions\n",
        "\n",
        "ID\n",
        "*   `parent_asin` looks like a primary key as it is unique for each row and never null (*to be confirmed in quantitative analysis*)\n",
        "\n",
        "TEXT\n",
        "*   `title` seems to be the most relevant column for semantic searching as it contains most of the info. It is almost never empty (*to be confirmed in quantitative analysis*)\n",
        "*   `description` is a relevant column for semantic searching too as it is more about the style and the way of wearing the item. It seems to be regularly empty though (*to be confirmed in quantitative analysis*)\n",
        "*   `features` is still relevant semantically but it is fairly technical and focusing on materials. It seems to be regularly empty though (*to be confirmed in quantitative analysis*)\n",
        "*   `details` is irrelevant semantically because it is pure technical dimensioning / materials\n",
        "*   `categories` seems to be very regularly empty (*to be checked in quantitative analysis*)\n",
        "\n",
        "MEDIA\n",
        "*   `images` contains a reference to a thumbnail picture which might relevant for text to image search using [CLIP](https://openai.com/index/clip/). These images are available in various resolutions which can be interesting to see how much this can cost. However, these images are sometimes linking to \"No Image available\" reference from Amazon.\n",
        "*   `videos` sometimes contains a reference to a video that we could divide into image and embed through CLIP. This is considered too time consuming for this project (compared to its added value) so it will not explored here.\n",
        "\n",
        "NUMERICAL\n",
        "*   `average_rating` / `rating_number` / `price` will have a fairly low importance in our key semantic search workflow considering their numerical nature.\n",
        "\n",
        "NOT PROVIDED\n",
        "*   `bought_together` is visibly not provided (*to be checked in quantitative analysis*)\n",
        "\n"
      ],
      "metadata": {
        "id": "csD4Gb9cBeQG"
      }
    },
    {
      "cell_type": "markdown",
      "source": [
        "# Quantitative analysis"
      ],
      "metadata": {
        "id": "zpTA-kdzqYKo"
      }
    },
    {
      "cell_type": "markdown",
      "source": [
        "Loading the full dataset for quantitative analysis"
      ],
      "metadata": {
        "id": "qMUJxa3GrGUU"
      }
    },
    {
      "cell_type": "code",
      "source": [
        "# Path to your .jsonl file\n",
        "file_path = \"meta_Amazon_Fashion.jsonl\"\n",
        "\n",
        "# Load JSONL into a pandas DataFrame\n",
        "full_df = pd.read_json(file_path, lines=True)"
      ],
      "metadata": {
        "id": "ENl_EbVUrFYG"
      },
      "execution_count": 10,
      "outputs": []
    },
    {
      "cell_type": "markdown",
      "source": [
        "Is parent_asin an actual primary key ?"
      ],
      "metadata": {
        "id": "HQ_eT1tMqhMJ"
      }
    },
    {
      "cell_type": "code",
      "source": [
        "def is_primary_key(df, column_name=\"id\"):\n",
        "    return df[column_name].is_unique and df[column_name].notnull().all()\n",
        "\n",
        "# Usage\n",
        "if \"parent_asin\" in full_df.columns:\n",
        "    if is_primary_key(full_df, \"parent_asin\"):\n",
        "        print(\"✅ 'parent_asin' is a valid primary key.\")\n",
        "    else:\n",
        "        print(\"❌ 'parent_asin' is NOT a valid primary key.\")"
      ],
      "metadata": {
        "colab": {
          "base_uri": "https://localhost:8080/",
          "height": 0
        },
        "id": "_xPCNg20qffO",
        "outputId": "a21c5b3f-ae6e-4a50-9eb5-4636f0e17f71"
      },
      "execution_count": 11,
      "outputs": [
        {
          "output_type": "stream",
          "name": "stdout",
          "text": [
            "✅ 'parent_asin' is a valid primary key.\n"
          ]
        }
      ]
    },
    {
      "cell_type": "markdown",
      "source": [
        "How many items do we have here ?"
      ],
      "metadata": {
        "id": "WJu2TWKrsZJI"
      }
    },
    {
      "cell_type": "code",
      "source": [
        "full_df.info()"
      ],
      "metadata": {
        "colab": {
          "base_uri": "https://localhost:8080/",
          "height": 0
        },
        "id": "u3aWYYvCsfwW",
        "outputId": "f5545a3a-9911-41a5-862a-e18e522526c2"
      },
      "execution_count": 12,
      "outputs": [
        {
          "output_type": "stream",
          "name": "stdout",
          "text": [
            "<class 'pandas.core.frame.DataFrame'>\n",
            "RangeIndex: 826108 entries, 0 to 826107\n",
            "Data columns (total 14 columns):\n",
            " #   Column           Non-Null Count   Dtype  \n",
            "---  ------           --------------   -----  \n",
            " 0   main_category    826108 non-null  object \n",
            " 1   title            826108 non-null  object \n",
            " 2   average_rating   826108 non-null  float64\n",
            " 3   rating_number    826108 non-null  int64  \n",
            " 4   features         826108 non-null  object \n",
            " 5   description      826108 non-null  object \n",
            " 6   price            50249 non-null   float64\n",
            " 7   images           826108 non-null  object \n",
            " 8   videos           826108 non-null  object \n",
            " 9   store            799270 non-null  object \n",
            " 10  categories       826108 non-null  object \n",
            " 11  details          826108 non-null  object \n",
            " 12  parent_asin      826108 non-null  object \n",
            " 13  bought_together  0 non-null       float64\n",
            "dtypes: float64(3), int64(1), object(10)\n",
            "memory usage: 88.2+ MB\n"
          ]
        }
      ]
    },
    {
      "cell_type": "markdown",
      "source": [
        "How many items actually have a description / features / title / categories / images ?"
      ],
      "metadata": {
        "id": "wNb_pBLUwAx7"
      }
    },
    {
      "cell_type": "code",
      "source": [
        "def plot_array_stats(df, column_name, scale):\n",
        "  length_name = column_name+\"_length\"\n",
        "  # Get the length of each array in the 'arrays' column\n",
        "  df[length_name] = df[column_name].apply(len)\n",
        "\n",
        "  print(f\"% of empty arrays in {column_name}: {100.0*(df[length_name].eq(0).sum()/df[length_name].count())} %\")\n",
        "  print(f\"Average {column_name} length: {df[length_name].mean()}\")\n",
        "  print(f\"Maximum {column_name} length: {df[length_name].max()}\")\n",
        "\n",
        "  print(\"============================================================\")\n",
        "  print(\"============================================================\")\n",
        "  # Plot the histogram of the lengths\n",
        "  plt.figure(figsize=(8, 6))\n",
        "  plt.hist(df[length_name], bins=100, edgecolor='black', color='skyblue')\n",
        "  plt.title(column_name)\n",
        "  plt.xlabel('Length of arrays in column: ' + column_name)\n",
        "  plt.ylabel('Frequency')\n",
        "  plt.yscale(scale)\n",
        "  plt.show()"
      ],
      "metadata": {
        "id": "MPOHPdXzwAfU"
      },
      "execution_count": 13,
      "outputs": []
    },
    {
      "cell_type": "code",
      "source": [
        "plot_array_stats(full_df, \"description\", \"log\")"
      ],
      "metadata": {
        "colab": {
          "base_uri": "https://localhost:8080/",
          "height": 651
        },
        "id": "xrZ_PzkT0ynx",
        "outputId": "0fcc9970-7662-4cf2-deea-909dd32ea53f"
      },
      "execution_count": 14,
      "outputs": [
        {
          "output_type": "stream",
          "name": "stdout",
          "text": [
            "% of empty arrays in description: 92.82309334856944 %\n",
            "Average description length: 0.18155011209188146\n",
            "Maximum description length: 101\n",
            "============================================================\n",
            "============================================================\n"
          ]
        },
        {
          "output_type": "display_data",
          "data": {
            "text/plain": [
              "<Figure size 800x600 with 1 Axes>"
            ],
            "image/png": "[encoded data removed]"
          },
          "metadata": {}
        }
      ]
    },
    {
      "cell_type": "code",
      "source": [
        "plot_array_stats(full_df, \"features\", \"log\")"
      ],
      "metadata": {
        "colab": {
          "base_uri": "https://localhost:8080/",
          "height": 651
        },
        "id": "b5W0Hrso3DRv",
        "outputId": "719ffd93-6592-474d-b50d-f9897ae03127"
      },
      "execution_count": 15,
      "outputs": [
        {
          "output_type": "stream",
          "name": "stdout",
          "text": [
            "% of empty arrays in features: 43.9451016089906 %\n",
            "Average features length: 1.2314443147869285\n",
            "Maximum features length: 26\n",
            "============================================================\n",
            "============================================================\n"
          ]
        },
        {
          "output_type": "display_data",
          "data": {
            "text/plain": [
              "<Figure size 800x600 with 1 Axes>"
            ],
            "image/png": "[encoded data removed]"
          },
          "metadata": {}
        }
      ]
    },
    {
      "cell_type": "code",
      "source": [
        "plot_array_stats(full_df, \"categories\", \"log\")"
      ],
      "metadata": {
        "colab": {
          "base_uri": "https://localhost:8080/",
          "height": 651
        },
        "id": "nxqx_buyBkSp",
        "outputId": "028314f3-d447-419d-950e-d9c505d0451a"
      },
      "execution_count": 16,
      "outputs": [
        {
          "output_type": "stream",
          "name": "stdout",
          "text": [
            "% of empty arrays in categories: 100.0 %\n",
            "Average categories length: 0.0\n",
            "Maximum categories length: 0\n",
            "============================================================\n",
            "============================================================\n"
          ]
        },
        {
          "output_type": "display_data",
          "data": {
            "text/plain": [
              "<Figure size 800x600 with 1 Axes>"
            ],
            "image/png": "[encoded data removed]"
          },
          "metadata": {}
        }
      ]
    },
    {
      "cell_type": "code",
      "source": [
        "plot_array_stats(full_df, \"images\", \"log\")"
      ],
      "metadata": {
        "colab": {
          "base_uri": "https://localhost:8080/",
          "height": 651
        },
        "id": "0neIxrEEF_n-",
        "outputId": "9c040741-8c57-4695-920c-0cf14b9e2599"
      },
      "execution_count": 17,
      "outputs": [
        {
          "output_type": "stream",
          "name": "stdout",
          "text": [
            "% of empty arrays in images: 0.00012104954800098777 %\n",
            "Average images length: 4.553578950936197\n",
            "Maximum images length: 31\n",
            "============================================================\n",
            "============================================================\n"
          ]
        },
        {
          "output_type": "display_data",
          "data": {
            "text/plain": [
              "<Figure size 800x600 with 1 Axes>"
            ],
            "image/png": "[encoded data removed]"
          },
          "metadata": {}
        }
      ]
    },
    {
      "cell_type": "code",
      "source": [
        "def contains_default_amazon_image(image_array):\n",
        "  for dico in image_array:\n",
        "    if dico['thumb'] == 'https://m.media-amazon.com/images/I/01RmK+J4pJL._AC_SR38,50_.gif':\n",
        "      return True\n",
        "  return False\n",
        "full_df[\"default_image\"] = full_df[\"images\"].apply(contains_default_amazon_image)\n",
        "\n",
        "print(\"% of default image in images: \" + str(round(100.0*(full_df[\"default_image\"].eq(True).sum() / full_df[\"default_image\"].count()),2)) +  \" %\")"
      ],
      "metadata": {
        "colab": {
          "base_uri": "https://localhost:8080/",
          "height": 0
        },
        "id": "U6HBPpKLM9HB",
        "outputId": "b1961b90-a03b-49f7-e207-e328f786af78"
      },
      "execution_count": 18,
      "outputs": [
        {
          "output_type": "stream",
          "name": "stdout",
          "text": [
            "% of default image in images: 1.32 %\n"
          ]
        }
      ]
    },
    {
      "cell_type": "markdown",
      "source": [
        "What are the token_size statistics in description and title ? This is a dimensioning factor for our embedding generation bill."
      ],
      "metadata": {
        "id": "-LNAQPlYqoH2"
      }
    },
    {
      "cell_type": "code",
      "source": [
        "# We will be using embedding text-embedding-3-small (and text-embedding-3-large)\n",
        "# so the relevant tokenizer is cl100k_base\n",
        "\n",
        "# Load the tokenizer used by text-embedding-3 models\n",
        "encoding = tiktoken.get_encoding(\"cl100k_base\")\n",
        "\n",
        "# Function to count tokens\n",
        "def count_tokens(text):\n",
        "    if pd.isnull(text):\n",
        "        return 0\n",
        "    return len(encoding.encode(str(text)))\n",
        "\n",
        "def print_token_stats(df, column_name):\n",
        "    string_name = column_name + \"_string\"\n",
        "    if column_name==\"title\":\n",
        "      df[string_name] = df[column_name]\n",
        "    else:\n",
        "      df[string_name] = df[column_name].apply(lambda x: ' '.join(x))\n",
        "    stat_name = column_name+\"token_count\"\n",
        "    # Apply the count_tokens function to the specified column\n",
        "    df[stat_name] = df[string_name].apply(count_tokens)\n",
        "    # Get stats\n",
        "    avg_tokens = df[stat_name].mean()\n",
        "    min_tokens = df[stat_name].min()\n",
        "    max_tokens = df[stat_name].max()\n",
        "    total_tokens = df[stat_name].sum()\n",
        "    # Using text-embedding-3-large to have an upper bound\n",
        "    total_cost_embedding = (total_tokens/1000.0) * 0.00013\n",
        "    # Printing\n",
        "    print(f\"Average {column_name} tokens: {avg_tokens}\")\n",
        "    print(f\"Minimum {column_name} tokens: {min_tokens}\")\n",
        "    print(f\"Maximum {column_name} tokens: {max_tokens}\")\n",
        "    print(f\"Total {column_name} tokens: {total_tokens}\")\n",
        "    print(f\"Total cost of embedding {column_name} for text-embedding-3-large: {round(total_cost_embedding, 2)} USD\")\n"
      ],
      "metadata": {
        "id": "ct-5F5osrCF7"
      },
      "execution_count": 19,
      "outputs": []
    },
    {
      "cell_type": "code",
      "source": [
        "full_df['title_array'] = full_df['title'].apply(lambda x: [x])\n",
        "print_token_stats(full_df, \"title_array\")"
      ],
      "metadata": {
        "colab": {
          "base_uri": "https://localhost:8080/",
          "height": 0
        },
        "id": "Msh4MNQYvR5C",
        "outputId": "695eae9c-050b-4217-c30b-902f21c3030d"
      },
      "execution_count": 20,
      "outputs": [
        {
          "output_type": "stream",
          "name": "stdout",
          "text": [
            "Average title_array tokens: 23.217940027211938\n",
            "Minimum title_array tokens: 0\n",
            "Maximum title_array tokens: 423\n",
            "Total title_array tokens: 19180526\n",
            "Total cost of embedding title_array for text-embedding-3-large: 2.49 USD\n"
          ]
        }
      ]
    },
    {
      "cell_type": "code",
      "source": [
        "print_token_stats(full_df, \"description\")"
      ],
      "metadata": {
        "colab": {
          "base_uri": "https://localhost:8080/",
          "height": 0
        },
        "id": "Az-1sa0uvXgw",
        "outputId": "f59d02a6-c48b-4a32-a098-c16ce6fed020"
      },
      "execution_count": 21,
      "outputs": [
        {
          "output_type": "stream",
          "name": "stdout",
          "text": [
            "Average description tokens: 9.041219792085297\n",
            "Minimum description tokens: 0\n",
            "Maximum description tokens: 2989\n",
            "Total description tokens: 7469024\n",
            "Total cost of embedding description for text-embedding-3-large: 0.97 USD\n"
          ]
        }
      ]
    },
    {
      "cell_type": "code",
      "source": [
        "print_token_stats(full_df, \"features\")"
      ],
      "metadata": {
        "colab": {
          "base_uri": "https://localhost:8080/",
          "height": 0
        },
        "id": "Psx3a9hu_cTI",
        "outputId": "7b5a4cdf-9446-4a96-c108-1628988056d5"
      },
      "execution_count": 22,
      "outputs": [
        {
          "output_type": "stream",
          "name": "stdout",
          "text": [
            "Average features tokens: 13.35176151302251\n",
            "Minimum features tokens: 0\n",
            "Maximum features tokens: 1467\n",
            "Total features tokens: 11029997\n",
            "Total cost of embedding features for text-embedding-3-large: 1.43 USD\n"
          ]
        }
      ]
    },
    {
      "cell_type": "code",
      "source": [
        "full_df['concatenated_arrays'] = (\n",
        "    full_df\n",
        "    .apply(\n",
        "        lambda row: row['title_array'] + row['description'] + row['features'],\n",
        "        axis=1\n",
        "    )\n",
        ")\n",
        "print_token_stats(full_df, \"concatenated_arrays\")"
      ],
      "metadata": {
        "colab": {
          "base_uri": "https://localhost:8080/",
          "height": 0
        },
        "id": "q_FQcByG_4PH",
        "outputId": "6f9a1d23-634f-484d-c58c-e908a513b3d2"
      },
      "execution_count": 23,
      "outputs": [
        {
          "output_type": "stream",
          "name": "stdout",
          "text": [
            "Average concatenated_arrays tokens: 45.57489819733013\n",
            "Minimum concatenated_arrays tokens: 0\n",
            "Maximum concatenated_arrays tokens: 3013\n",
            "Total concatenated_arrays tokens: 37649788\n",
            "Total cost of embedding concatenated_arrays for text-embedding-3-large: 4.89 USD\n"
          ]
        }
      ]
    },
    {
      "cell_type": "markdown",
      "source": [
        "## Conclusions\n",
        "\n",
        "ID\n",
        "*   `parent_asin` is a primary key.\n",
        "\n",
        "TEXT\n",
        "*   `title` / `description` / `features` can be embedded for a RAG using text-embedding-3-large without going over a nudget of 10USD.\n",
        "*   `title` + `description` + `features` concatenated number of tokens seems reasonable to avoid chunking (as done for RAG on large documents).\n",
        "*   `categories` is always empty.\n",
        "\n",
        "MEDIA\n",
        "*   `images` are provided for more than 99.99% products. Nevertheless, 1.32 % of images are the Amazon default : Amazon no image.\n",
        "\n",
        "\n",
        "\n",
        "NOT PROVIDED\n",
        "*   `bought_together` is not provided.\n",
        "\n"
      ],
      "metadata": {
        "id": "orcaBWQaJjvt"
      }
    },
    {
      "cell_type": "code",
      "source": [
        "print()"
      ],
      "metadata": {
        "colab": {
          "base_uri": "https://localhost:8080/",
          "height": 0
        },
        "id": "NroZFafkMkr5",
        "outputId": "808587f4-0c0b-4cec-c783-e9692a00b389"
      },
      "execution_count": 24,
      "outputs": [
        {
          "output_type": "stream",
          "name": "stdout",
          "text": [
            "\n"
          ]
        }
      ]
    },
    {
      "cell_type": "code",
      "source": [],
      "metadata": {
        "id": "cgaLvZjRQtr0"
      },
      "execution_count": null,
      "outputs": []
    }
  ]
}