{
  "nbformat": 4,
  "nbformat_minor": 0,
  "metadata": {
    "colab": {
      "provenance": []
    },
    "kernelspec": {
      "name": "python3",
      "display_name": "Python 3"
    },
    "language_info": {
      "name": "python"
    },
    "widgets": {
      "application/vnd.jupyter.widget-state+json": {
        "3996d9658d244ea9b2fb45e64a013eac": {
          "model_module": "@jupyter-widgets/controls",
          "model_name": "HBoxModel",
          "model_module_version": "1.5.0",
          "state": {
            "_dom_classes": [],
            "_model_module": "@jupyter-widgets/controls",
            "_model_module_version": "1.5.0",
            "_model_name": "HBoxModel",
            "_view_count": null,
            "_view_module": "@jupyter-widgets/controls",
            "_view_module_version": "1.5.0",
            "_view_name": "HBoxView",
            "box_style": "",
            "children": [
              "IPY_MODEL_233e07cebe65414896c9352fa87c69be",
              "IPY_MODEL_8c5680949a264588ad7d19969431a49e",
              "IPY_MODEL_0569330b9ef74a86b731236b33752a0c"
            ],
            "layout": "IPY_MODEL_b34c3fba2e384984be74c785f3cac7b6"
          }
        },
        "233e07cebe65414896c9352fa87c69be": {
          "model_module": "@jupyter-widgets/controls",
          "model_name": "HTMLModel",
          "model_module_version": "1.5.0",
          "state": {
            "_dom_classes": [],
            "_model_module": "@jupyter-widgets/controls",
            "_model_module_version": "1.5.0",
            "_model_name": "HTMLModel",
            "_view_count": null,
            "_view_module": "@jupyter-widgets/controls",
            "_view_module_version": "1.5.0",
            "_view_name": "HTMLView",
            "description": "",
            "description_tooltip": null,
            "layout": "IPY_MODEL_64714f7c91634fb68575e05e397913a8",
            "placeholder": "​",
            "style": "IPY_MODEL_04277ad9dec74d7e9efe89468b27c090",
            "value": "100%"
          }
        },
        "8c5680949a264588ad7d19969431a49e": {
          "model_module": "@jupyter-widgets/controls",
          "model_name": "FloatProgressModel",
          "model_module_version": "1.5.0",
          "state": {
            "_dom_classes": [],
            "_model_module": "@jupyter-widgets/controls",
            "_model_module_version": "1.5.0",
            "_model_name": "FloatProgressModel",
            "_view_count": null,
            "_view_module": "@jupyter-widgets/controls",
            "_view_module_version": "1.5.0",
            "_view_name": "ProgressView",
            "bar_style": "success",
            "description": "",
            "description_tooltip": null,
            "layout": "IPY_MODEL_b4f66bb3b67d4611b94265f83b0cba07",
            "max": 2,
            "min": 0,
            "orientation": "horizontal",
            "style": "IPY_MODEL_4035a5724cc1458885ac668b444800bd",
            "value": 2
          }
        },
        "0569330b9ef74a86b731236b33752a0c": {
          "model_module": "@jupyter-widgets/controls",
          "model_name": "HTMLModel",
          "model_module_version": "1.5.0",
          "state": {
            "_dom_classes": [],
            "_model_module": "@jupyter-widgets/controls",
            "_model_module_version": "1.5.0",
            "_model_name": "HTMLModel",
            "_view_count": null,
            "_view_module": "@jupyter-widgets/controls",
            "_view_module_version": "1.5.0",
            "_view_name": "HTMLView",
            "description": "",
            "description_tooltip": null,
            "layout": "IPY_MODEL_fd3dc1dccd7b4338b7839cbf96190d72",
            "placeholder": "​",
            "style": "IPY_MODEL_a0806afc897f4dc4862d29419a584edc",
            "value": " 2/2 [00:42&lt;00:00, 21.04s/it]"
          }
        },
        "b34c3fba2e384984be74c785f3cac7b6": {
          "model_module": "@jupyter-widgets/base",
          "model_name": "LayoutModel",
          "model_module_version": "1.2.0",
          "state": {
            "_model_module": "@jupyter-widgets/base",
            "_model_module_version": "1.2.0",
            "_model_name": "LayoutModel",
            "_view_count": null,
            "_view_module": "@jupyter-widgets/base",
            "_view_module_version": "1.2.0",
            "_view_name": "LayoutView",
            "align_content": null,
            "align_items": null,
            "align_self": null,
            "border": null,
            "bottom": null,
            "display": null,
            "flex": null,
            "flex_flow": null,
            "grid_area": null,
            "grid_auto_columns": null,
            "grid_auto_flow": null,
            "grid_auto_rows": null,
            "grid_column": null,
            "grid_gap": null,
            "grid_row": null,
            "grid_template_areas": null,
            "grid_template_columns": null,
            "grid_template_rows": null,
            "height": null,
            "justify_content": null,
            "justify_items": null,
            "left": null,
            "margin": null,
            "max_height": null,
            "max_width": null,
            "min_height": null,
            "min_width": null,
            "object_fit": null,
            "object_position": null,
            "order": null,
            "overflow": null,
            "overflow_x": null,
            "overflow_y": null,
            "padding": null,
            "right": null,
            "top": null,
            "visibility": null,
            "width": null
          }
        },
        "64714f7c91634fb68575e05e397913a8": {
          "model_module": "@jupyter-widgets/base",
          "model_name": "LayoutModel",
          "model_module_version": "1.2.0",
          "state": {
            "_model_module": "@jupyter-widgets/base",
            "_model_module_version": "1.2.0",
            "_model_name": "LayoutModel",
            "_view_count": null,
            "_view_module": "@jupyter-widgets/base",
            "_view_module_version": "1.2.0",
            "_view_name": "LayoutView",
            "align_content": null,
            "align_items": null,
            "align_self": null,
            "border": null,
            "bottom": null,
            "display": null,
            "flex": null,
            "flex_flow": null,
            "grid_area": null,
            "grid_auto_columns": null,
            "grid_auto_flow": null,
            "grid_auto_rows": null,
            "grid_column": null,
            "grid_gap": null,
            "grid_row": null,
            "grid_template_areas": null,
            "grid_template_columns": null,
            "grid_template_rows": null,
            "height": null,
            "justify_content": null,
            "justify_items": null,
            "left": null,
            "margin": null,
            "max_height": null,
            "max_width": null,
            "min_height": null,
            "min_width": null,
            "object_fit": null,
            "object_position": null,
            "order": null,
            "overflow": null,
            "overflow_x": null,
            "overflow_y": null,
            "padding": null,
            "right": null,
            "top": null,
            "visibility": null,
            "width": null
          }
        },
        "04277ad9dec74d7e9efe89468b27c090": {
          "model_module": "@jupyter-widgets/controls",
          "model_name": "DescriptionStyleModel",
          "model_module_version": "1.5.0",
          "state": {
            "_model_module": "@jupyter-widgets/controls",
            "_model_module_version": "1.5.0",
            "_model_name": "DescriptionStyleModel",
            "_view_count": null,
            "_view_module": "@jupyter-widgets/base",
            "_view_module_version": "1.2.0",
            "_view_name": "StyleView",
            "description_width": ""
          }
        },
        "b4f66bb3b67d4611b94265f83b0cba07": {
          "model_module": "@jupyter-widgets/base",
          "model_name": "LayoutModel",
          "model_module_version": "1.2.0",
          "state": {
            "_model_module": "@jupyter-widgets/base",
            "_model_module_version": "1.2.0",
            "_model_name": "LayoutModel",
            "_view_count": null,
            "_view_module": "@jupyter-widgets/base",
            "_view_module_version": "1.2.0",
            "_view_name": "LayoutView",
            "align_content": null,
            "align_items": null,
            "align_self": null,
            "border": null,
            "bottom": null,
            "display": null,
            "flex": null,
            "flex_flow": null,
            "grid_area": null,
            "grid_auto_columns": null,
            "grid_auto_flow": null,
            "grid_auto_rows": null,
            "grid_column": null,
            "grid_gap": null,
            "grid_row": null,
            "grid_template_areas": null,
            "grid_template_columns": null,
            "grid_template_rows": null,
            "height": null,
            "justify_content": null,
            "justify_items": null,
            "left": null,
            "margin": null,
            "max_height": null,
            "max_width": null,
            "min_height": null,
            "min_width": null,
            "object_fit": null,
            "object_position": null,
            "order": null,
            "overflow": null,
            "overflow_x": null,
            "overflow_y": null,
            "padding": null,
            "right": null,
            "top": null,
            "visibility": null,
            "width": null
          }
        },
        "4035a5724cc1458885ac668b444800bd": {
          "model_module": "@jupyter-widgets/controls",
          "model_name": "ProgressStyleModel",
          "model_module_version": "1.5.0",
          "state": {
            "_model_module": "@jupyter-widgets/controls",
            "_model_module_version": "1.5.0",
            "_model_name": "ProgressStyleModel",
            "_view_count": null,
            "_view_module": "@jupyter-widgets/base",
            "_view_module_version": "1.2.0",
            "_view_name": "StyleView",
            "bar_color": null,
            "description_width": ""
          }
        },
        "fd3dc1dccd7b4338b7839cbf96190d72": {
          "model_module": "@jupyter-widgets/base",
          "model_name": "LayoutModel",
          "model_module_version": "1.2.0",
          "state": {
            "_model_module": "@jupyter-widgets/base",
            "_model_module_version": "1.2.0",
            "_model_name": "LayoutModel",
            "_view_count": null,
            "_view_module": "@jupyter-widgets/base",
            "_view_module_version": "1.2.0",
            "_view_name": "LayoutView",
            "align_content": null,
            "align_items": null,
            "align_self": null,
            "border": null,
            "bottom": null,
            "display": null,
            "flex": null,
            "flex_flow": null,
            "grid_area": null,
            "grid_auto_columns": null,
            "grid_auto_flow": null,
            "grid_auto_rows": null,
            "grid_column": null,
            "grid_gap": null,
            "grid_row": null,
            "grid_template_areas": null,
            "grid_template_columns": null,
            "grid_template_rows": null,
            "height": null,
            "justify_content": null,
            "justify_items": null,
            "left": null,
            "margin": null,
            "max_height": null,
            "max_width": null,
            "min_height": null,
            "min_width": null,
            "object_fit": null,
            "object_position": null,
            "order": null,
            "overflow": null,
            "overflow_x": null,
            "overflow_y": null,
            "padding": null,
            "right": null,
            "top": null,
            "visibility": null,
            "width": null
          }
        },
        "a0806afc897f4dc4862d29419a584edc": {
          "model_module": "@jupyter-widgets/controls",
          "model_name": "DescriptionStyleModel",
          "model_module_version": "1.5.0",
          "state": {
            "_model_module": "@jupyter-widgets/controls",
            "_model_module_version": "1.5.0",
            "_model_name": "DescriptionStyleModel",
            "_view_count": null,
            "_view_module": "@jupyter-widgets/base",
            "_view_module_version": "1.2.0",
            "_view_name": "StyleView",
            "description_width": ""
          }
        }
      }
    }
  },
  "cells": [
    {
      "cell_type": "markdown",
      "source": [
        "# Preparation"
      ],
      "metadata": {
        "id": "fRODCf7D4y6d"
      }
    },
    {
      "cell_type": "code",
      "execution_count": 1,
      "metadata": {
        "colab": {
          "base_uri": "https://localhost:8080/"
        },
        "id": "vzrUOzlc2r62",
        "outputId": "c10cbbc1-e22b-4ef1-d30c-67e05cd92823"
      },
      "outputs": [
        {
          "output_type": "stream",
          "name": "stdout",
          "text": [
            "Collecting datasets\n",
            "  Downloading datasets-3.5.0-py3-none-any.whl.metadata (19 kB)\n",
            "Requirement already satisfied: filelock in /usr/local/lib/python3.11/dist-packages (from datasets) (3.18.0)\n",
            "Requirement already satisfied: numpy>=1.17 in /usr/local/lib/python3.11/dist-packages (from datasets) (2.0.2)\n",
            "Requirement already satisfied: pyarrow>=15.0.0 in /usr/local/lib/python3.11/dist-packages (from datasets) (18.1.0)\n",
            "Collecting dill<0.3.9,>=0.3.0 (from datasets)\n",
            "  Downloading dill-0.3.8-py3-none-any.whl.metadata (10 kB)\n",
            "Requirement already satisfied: pandas in /usr/local/lib/python3.11/dist-packages (from datasets) (2.2.2)\n",
            "Requirement already satisfied: requests>=2.32.2 in /usr/local/lib/python3.11/dist-packages (from datasets) (2.32.3)\n",
            "Requirement already satisfied: tqdm>=4.66.3 in /usr/local/lib/python3.11/dist-packages (from datasets) (4.67.1)\n",
            "Collecting xxhash (from datasets)\n",
            "  Downloading xxhash-3.5.0-cp311-cp311-manylinux_2_17_x86_64.manylinux2014_x86_64.whl.metadata (12 kB)\n",
            "Collecting multiprocess<0.70.17 (from datasets)\n",
            "  Downloading multiprocess-0.70.16-py311-none-any.whl.metadata (7.2 kB)\n",
            "Collecting fsspec<=2024.12.0,>=2023.1.0 (from fsspec[http]<=2024.12.0,>=2023.1.0->datasets)\n",
            "  Downloading fsspec-2024.12.0-py3-none-any.whl.metadata (11 kB)\n",
            "Requirement already satisfied: aiohttp in /usr/local/lib/python3.11/dist-packages (from datasets) (3.11.15)\n",
            "Requirement already satisfied: huggingface-hub>=0.24.0 in /usr/local/lib/python3.11/dist-packages (from datasets) (0.30.2)\n",
            "Requirement already satisfied: packaging in /usr/local/lib/python3.11/dist-packages (from datasets) (24.2)\n",
            "Requirement already satisfied: pyyaml>=5.1 in /usr/local/lib/python3.11/dist-packages (from datasets) (6.0.2)\n",
            "Requirement already satisfied: aiohappyeyeballs>=2.3.0 in /usr/local/lib/python3.11/dist-packages (from aiohttp->datasets) (2.6.1)\n",
            "Requirement already satisfied: aiosignal>=1.1.2 in /usr/local/lib/python3.11/dist-packages (from aiohttp->datasets) (1.3.2)\n",
            "Requirement already satisfied: attrs>=17.3.0 in /usr/local/lib/python3.11/dist-packages (from aiohttp->datasets) (25.3.0)\n",
            "Requirement already satisfied: frozenlist>=1.1.1 in /usr/local/lib/python3.11/dist-packages (from aiohttp->datasets) (1.5.0)\n",
            "Requirement already satisfied: multidict<7.0,>=4.5 in /usr/local/lib/python3.11/dist-packages (from aiohttp->datasets) (6.4.2)\n",
            "Requirement already satisfied: propcache>=0.2.0 in /usr/local/lib/python3.11/dist-packages (from aiohttp->datasets) (0.3.1)\n",
            "Requirement already satisfied: yarl<2.0,>=1.17.0 in /usr/local/lib/python3.11/dist-packages (from aiohttp->datasets) (1.19.0)\n",
            "Requirement already satisfied: typing-extensions>=3.7.4.3 in /usr/local/lib/python3.11/dist-packages (from huggingface-hub>=0.24.0->datasets) (4.13.1)\n",
            "Requirement already satisfied: charset-normalizer<4,>=2 in /usr/local/lib/python3.11/dist-packages (from requests>=2.32.2->datasets) (3.4.1)\n",
            "Requirement already satisfied: idna<4,>=2.5 in /usr/local/lib/python3.11/dist-packages (from requests>=2.32.2->datasets) (3.10)\n",
            "Requirement already satisfied: urllib3<3,>=1.21.1 in /usr/local/lib/python3.11/dist-packages (from requests>=2.32.2->datasets) (2.3.0)\n",
            "Requirement already satisfied: certifi>=2017.4.17 in /usr/local/lib/python3.11/dist-packages (from requests>=2.32.2->datasets) (2025.1.31)\n",
            "Requirement already satisfied: python-dateutil>=2.8.2 in /usr/local/lib/python3.11/dist-packages (from pandas->datasets) (2.8.2)\n",
            "Requirement already satisfied: pytz>=2020.1 in /usr/local/lib/python3.11/dist-packages (from pandas->datasets) (2025.2)\n",
            "Requirement already satisfied: tzdata>=2022.7 in /usr/local/lib/python3.11/dist-packages (from pandas->datasets) (2025.2)\n",
            "Requirement already satisfied: six>=1.5 in /usr/local/lib/python3.11/dist-packages (from python-dateutil>=2.8.2->pandas->datasets) (1.17.0)\n",
            "Downloading datasets-3.5.0-py3-none-any.whl (491 kB)\n",
            "\u001b[2K   \u001b[90m━━━━━━━━━━━━━━━━━━━━━━━━━━━━━━━━━━━━━━━━\u001b[0m \u001b[32m491.2/491.2 kB\u001b[0m \u001b[31m4.2 MB/s\u001b[0m eta \u001b[36m0:00:00\u001b[0m\n",
            "\u001b[?25hDownloading dill-0.3.8-py3-none-any.whl (116 kB)\n",
            "\u001b[2K   \u001b[90m━━━━━━━━━━━━━━━━━━━━━━━━━━━━━━━━━━━━━━━━\u001b[0m \u001b[32m116.3/116.3 kB\u001b[0m \u001b[31m6.7 MB/s\u001b[0m eta \u001b[36m0:00:00\u001b[0m\n",
            "\u001b[?25hDownloading fsspec-2024.12.0-py3-none-any.whl (183 kB)\n",
            "\u001b[2K   \u001b[90m━━━━━━━━━━━━━━━━━━━━━━━━━━━━━━━━━━━━━━━━\u001b[0m \u001b[32m183.9/183.9 kB\u001b[0m \u001b[31m9.2 MB/s\u001b[0m eta \u001b[36m0:00:00\u001b[0m\n",
            "\u001b[?25hDownloading multiprocess-0.70.16-py311-none-any.whl (143 kB)\n",
            "\u001b[2K   \u001b[90m━━━━━━━━━━━━━━━━━━━━━━━━━━━━━━━━━━━━━━━━\u001b[0m \u001b[32m143.5/143.5 kB\u001b[0m \u001b[31m8.1 MB/s\u001b[0m eta \u001b[36m0:00:00\u001b[0m\n",
            "\u001b[?25hDownloading xxhash-3.5.0-cp311-cp311-manylinux_2_17_x86_64.manylinux2014_x86_64.whl (194 kB)\n",
            "\u001b[2K   \u001b[90m━━━━━━━━━━━━━━━━━━━━━━━━━━━━━━━━━━━━━━━━\u001b[0m \u001b[32m194.8/194.8 kB\u001b[0m \u001b[31m10.1 MB/s\u001b[0m eta \u001b[36m0:00:00\u001b[0m\n",
            "\u001b[?25hInstalling collected packages: xxhash, fsspec, dill, multiprocess, datasets\n",
            "  Attempting uninstall: fsspec\n",
            "    Found existing installation: fsspec 2025.3.2\n",
            "    Uninstalling fsspec-2025.3.2:\n",
            "      Successfully uninstalled fsspec-2025.3.2\n",
            "\u001b[31mERROR: pip's dependency resolver does not currently take into account all the packages that are installed. This behaviour is the source of the following dependency conflicts.\n",
            "torch 2.6.0+cu124 requires nvidia-cublas-cu12==12.4.5.8; platform_system == \"Linux\" and platform_machine == \"x86_64\", but you have nvidia-cublas-cu12 12.5.3.2 which is incompatible.\n",
            "torch 2.6.0+cu124 requires nvidia-cuda-cupti-cu12==12.4.127; platform_system == \"Linux\" and platform_machine == \"x86_64\", but you have nvidia-cuda-cupti-cu12 12.5.82 which is incompatible.\n",
            "torch 2.6.0+cu124 requires nvidia-cuda-nvrtc-cu12==12.4.127; platform_system == \"Linux\" and platform_machine == \"x86_64\", but you have nvidia-cuda-nvrtc-cu12 12.5.82 which is incompatible.\n",
            "torch 2.6.0+cu124 requires nvidia-cuda-runtime-cu12==12.4.127; platform_system == \"Linux\" and platform_machine == \"x86_64\", but you have nvidia-cuda-runtime-cu12 12.5.82 which is incompatible.\n",
            "torch 2.6.0+cu124 requires nvidia-cudnn-cu12==9.1.0.70; platform_system == \"Linux\" and platform_machine == \"x86_64\", but you have nvidia-cudnn-cu12 9.3.0.75 which is incompatible.\n",
            "torch 2.6.0+cu124 requires nvidia-cufft-cu12==11.2.1.3; platform_system == \"Linux\" and platform_machine == \"x86_64\", but you have nvidia-cufft-cu12 11.2.3.61 which is incompatible.\n",
            "torch 2.6.0+cu124 requires nvidia-curand-cu12==10.3.5.147; platform_system == \"Linux\" and platform_machine == \"x86_64\", but you have nvidia-curand-cu12 10.3.6.82 which is incompatible.\n",
            "torch 2.6.0+cu124 requires nvidia-cusolver-cu12==11.6.1.9; platform_system == \"Linux\" and platform_machine == \"x86_64\", but you have nvidia-cusolver-cu12 11.6.3.83 which is incompatible.\n",
            "torch 2.6.0+cu124 requires nvidia-cusparse-cu12==12.3.1.170; platform_system == \"Linux\" and platform_machine == \"x86_64\", but you have nvidia-cusparse-cu12 12.5.1.3 which is incompatible.\n",
            "torch 2.6.0+cu124 requires nvidia-nvjitlink-cu12==12.4.127; platform_system == \"Linux\" and platform_machine == \"x86_64\", but you have nvidia-nvjitlink-cu12 12.5.82 which is incompatible.\n",
            "gcsfs 2025.3.2 requires fsspec==2025.3.2, but you have fsspec 2024.12.0 which is incompatible.\u001b[0m\u001b[31m\n",
            "\u001b[0mSuccessfully installed datasets-3.5.0 dill-0.3.8 fsspec-2024.12.0 multiprocess-0.70.16 xxhash-3.5.0\n",
            "Requirement already satisfied: pandas in /usr/local/lib/python3.11/dist-packages (2.2.2)\n",
            "Requirement already satisfied: numpy>=1.23.2 in /usr/local/lib/python3.11/dist-packages (from pandas) (2.0.2)\n",
            "Requirement already satisfied: python-dateutil>=2.8.2 in /usr/local/lib/python3.11/dist-packages (from pandas) (2.8.2)\n",
            "Requirement already satisfied: pytz>=2020.1 in /usr/local/lib/python3.11/dist-packages (from pandas) (2025.2)\n",
            "Requirement already satisfied: tzdata>=2022.7 in /usr/local/lib/python3.11/dist-packages (from pandas) (2025.2)\n",
            "Requirement already satisfied: six>=1.5 in /usr/local/lib/python3.11/dist-packages (from python-dateutil>=2.8.2->pandas) (1.17.0)\n",
            "Requirement already satisfied: openai in /usr/local/lib/python3.11/dist-packages (1.72.0)\n",
            "Requirement already satisfied: anyio<5,>=3.5.0 in /usr/local/lib/python3.11/dist-packages (from openai) (4.9.0)\n",
            "Requirement already satisfied: distro<2,>=1.7.0 in /usr/local/lib/python3.11/dist-packages (from openai) (1.9.0)\n",
            "Requirement already satisfied: httpx<1,>=0.23.0 in /usr/local/lib/python3.11/dist-packages (from openai) (0.28.1)\n",
            "Requirement already satisfied: jiter<1,>=0.4.0 in /usr/local/lib/python3.11/dist-packages (from openai) (0.9.0)\n",
            "Requirement already satisfied: pydantic<3,>=1.9.0 in /usr/local/lib/python3.11/dist-packages (from openai) (2.11.3)\n",
            "Requirement already satisfied: sniffio in /usr/local/lib/python3.11/dist-packages (from openai) (1.3.1)\n",
            "Requirement already satisfied: tqdm>4 in /usr/local/lib/python3.11/dist-packages (from openai) (4.67.1)\n",
            "Requirement already satisfied: typing-extensions<5,>=4.11 in /usr/local/lib/python3.11/dist-packages (from openai) (4.13.1)\n",
            "Requirement already satisfied: idna>=2.8 in /usr/local/lib/python3.11/dist-packages (from anyio<5,>=3.5.0->openai) (3.10)\n",
            "Requirement already satisfied: certifi in /usr/local/lib/python3.11/dist-packages (from httpx<1,>=0.23.0->openai) (2025.1.31)\n",
            "Requirement already satisfied: httpcore==1.* in /usr/local/lib/python3.11/dist-packages (from httpx<1,>=0.23.0->openai) (1.0.7)\n",
            "Requirement already satisfied: h11<0.15,>=0.13 in /usr/local/lib/python3.11/dist-packages (from httpcore==1.*->httpx<1,>=0.23.0->openai) (0.14.0)\n",
            "Requirement already satisfied: annotated-types>=0.6.0 in /usr/local/lib/python3.11/dist-packages (from pydantic<3,>=1.9.0->openai) (0.7.0)\n",
            "Requirement already satisfied: pydantic-core==2.33.1 in /usr/local/lib/python3.11/dist-packages (from pydantic<3,>=1.9.0->openai) (2.33.1)\n",
            "Requirement already satisfied: typing-inspection>=0.4.0 in /usr/local/lib/python3.11/dist-packages (from pydantic<3,>=1.9.0->openai) (0.4.0)\n",
            "Collecting tiktoken\n",
            "  Downloading tiktoken-0.9.0-cp311-cp311-manylinux_2_17_x86_64.manylinux2014_x86_64.whl.metadata (6.7 kB)\n",
            "Requirement already satisfied: regex>=2022.1.18 in /usr/local/lib/python3.11/dist-packages (from tiktoken) (2024.11.6)\n",
            "Requirement already satisfied: requests>=2.26.0 in /usr/local/lib/python3.11/dist-packages (from tiktoken) (2.32.3)\n",
            "Requirement already satisfied: charset-normalizer<4,>=2 in /usr/local/lib/python3.11/dist-packages (from requests>=2.26.0->tiktoken) (3.4.1)\n",
            "Requirement already satisfied: idna<4,>=2.5 in /usr/local/lib/python3.11/dist-packages (from requests>=2.26.0->tiktoken) (3.10)\n",
            "Requirement already satisfied: urllib3<3,>=1.21.1 in /usr/local/lib/python3.11/dist-packages (from requests>=2.26.0->tiktoken) (2.3.0)\n",
            "Requirement already satisfied: certifi>=2017.4.17 in /usr/local/lib/python3.11/dist-packages (from requests>=2.26.0->tiktoken) (2025.1.31)\n",
            "Downloading tiktoken-0.9.0-cp311-cp311-manylinux_2_17_x86_64.manylinux2014_x86_64.whl (1.2 MB)\n",
            "\u001b[2K   \u001b[90m━━━━━━━━━━━━━━━━━━━━━━━━━━━━━━━━━━━━━━━━\u001b[0m \u001b[32m1.2/1.2 MB\u001b[0m \u001b[31m12.8 MB/s\u001b[0m eta \u001b[36m0:00:00\u001b[0m\n",
            "\u001b[?25hInstalling collected packages: tiktoken\n",
            "Successfully installed tiktoken-0.9.0\n",
            "Requirement already satisfied: matplotlib in /usr/local/lib/python3.11/dist-packages (3.10.0)\n",
            "Requirement already satisfied: contourpy>=1.0.1 in /usr/local/lib/python3.11/dist-packages (from matplotlib) (1.3.1)\n",
            "Requirement already satisfied: cycler>=0.10 in /usr/local/lib/python3.11/dist-packages (from matplotlib) (0.12.1)\n",
            "Requirement already satisfied: fonttools>=4.22.0 in /usr/local/lib/python3.11/dist-packages (from matplotlib) (4.57.0)\n",
            "Requirement already satisfied: kiwisolver>=1.3.1 in /usr/local/lib/python3.11/dist-packages (from matplotlib) (1.4.8)\n",
            "Requirement already satisfied: numpy>=1.23 in /usr/local/lib/python3.11/dist-packages (from matplotlib) (2.0.2)\n",
            "Requirement already satisfied: packaging>=20.0 in /usr/local/lib/python3.11/dist-packages (from matplotlib) (24.2)\n",
            "Requirement already satisfied: pillow>=8 in /usr/local/lib/python3.11/dist-packages (from matplotlib) (11.1.0)\n",
            "Requirement already satisfied: pyparsing>=2.3.1 in /usr/local/lib/python3.11/dist-packages (from matplotlib) (3.2.3)\n",
            "Requirement already satisfied: python-dateutil>=2.7 in /usr/local/lib/python3.11/dist-packages (from matplotlib) (2.8.2)\n",
            "Requirement already satisfied: six>=1.5 in /usr/local/lib/python3.11/dist-packages (from python-dateutil>=2.7->matplotlib) (1.17.0)\n",
            "Requirement already satisfied: requests in /usr/local/lib/python3.11/dist-packages (2.32.3)\n",
            "Requirement already satisfied: charset-normalizer<4,>=2 in /usr/local/lib/python3.11/dist-packages (from requests) (3.4.1)\n",
            "Requirement already satisfied: idna<4,>=2.5 in /usr/local/lib/python3.11/dist-packages (from requests) (3.10)\n",
            "Requirement already satisfied: urllib3<3,>=1.21.1 in /usr/local/lib/python3.11/dist-packages (from requests) (2.3.0)\n",
            "Requirement already satisfied: certifi>=2017.4.17 in /usr/local/lib/python3.11/dist-packages (from requests) (2025.1.31)\n",
            "Collecting cohere\n",
            "  Downloading cohere-5.15.0-py3-none-any.whl.metadata (3.4 kB)\n",
            "Collecting fastavro<2.0.0,>=1.9.4 (from cohere)\n",
            "  Downloading fastavro-1.10.0-cp311-cp311-manylinux_2_17_x86_64.manylinux2014_x86_64.whl.metadata (5.5 kB)\n",
            "Requirement already satisfied: httpx>=0.21.2 in /usr/local/lib/python3.11/dist-packages (from cohere) (0.28.1)\n",
            "Collecting httpx-sse==0.4.0 (from cohere)\n",
            "  Downloading httpx_sse-0.4.0-py3-none-any.whl.metadata (9.0 kB)\n",
            "Requirement already satisfied: pydantic>=1.9.2 in /usr/local/lib/python3.11/dist-packages (from cohere) (2.11.3)\n",
            "Requirement already satisfied: pydantic-core<3.0.0,>=2.18.2 in /usr/local/lib/python3.11/dist-packages (from cohere) (2.33.1)\n",
            "Requirement already satisfied: requests<3.0.0,>=2.0.0 in /usr/local/lib/python3.11/dist-packages (from cohere) (2.32.3)\n",
            "Requirement already satisfied: tokenizers<1,>=0.15 in /usr/local/lib/python3.11/dist-packages (from cohere) (0.21.1)\n",
            "Collecting types-requests<3.0.0,>=2.0.0 (from cohere)\n",
            "  Downloading types_requests-2.32.0.20250328-py3-none-any.whl.metadata (2.3 kB)\n",
            "Requirement already satisfied: typing_extensions>=4.0.0 in /usr/local/lib/python3.11/dist-packages (from cohere) (4.13.1)\n",
            "Requirement already satisfied: anyio in /usr/local/lib/python3.11/dist-packages (from httpx>=0.21.2->cohere) (4.9.0)\n",
            "Requirement already satisfied: certifi in /usr/local/lib/python3.11/dist-packages (from httpx>=0.21.2->cohere) (2025.1.31)\n",
            "Requirement already satisfied: httpcore==1.* in /usr/local/lib/python3.11/dist-packages (from httpx>=0.21.2->cohere) (1.0.7)\n",
            "Requirement already satisfied: idna in /usr/local/lib/python3.11/dist-packages (from httpx>=0.21.2->cohere) (3.10)\n",
            "Requirement already satisfied: h11<0.15,>=0.13 in /usr/local/lib/python3.11/dist-packages (from httpcore==1.*->httpx>=0.21.2->cohere) (0.14.0)\n",
            "Requirement already satisfied: annotated-types>=0.6.0 in /usr/local/lib/python3.11/dist-packages (from pydantic>=1.9.2->cohere) (0.7.0)\n",
            "Requirement already satisfied: typing-inspection>=0.4.0 in /usr/local/lib/python3.11/dist-packages (from pydantic>=1.9.2->cohere) (0.4.0)\n",
            "Requirement already satisfied: charset-normalizer<4,>=2 in /usr/local/lib/python3.11/dist-packages (from requests<3.0.0,>=2.0.0->cohere) (3.4.1)\n",
            "Requirement already satisfied: urllib3<3,>=1.21.1 in /usr/local/lib/python3.11/dist-packages (from requests<3.0.0,>=2.0.0->cohere) (2.3.0)\n",
            "Requirement already satisfied: huggingface-hub<1.0,>=0.16.4 in /usr/local/lib/python3.11/dist-packages (from tokenizers<1,>=0.15->cohere) (0.30.2)\n",
            "Requirement already satisfied: filelock in /usr/local/lib/python3.11/dist-packages (from huggingface-hub<1.0,>=0.16.4->tokenizers<1,>=0.15->cohere) (3.18.0)\n",
            "Requirement already satisfied: fsspec>=2023.5.0 in /usr/local/lib/python3.11/dist-packages (from huggingface-hub<1.0,>=0.16.4->tokenizers<1,>=0.15->cohere) (2024.12.0)\n",
            "Requirement already satisfied: packaging>=20.9 in /usr/local/lib/python3.11/dist-packages (from huggingface-hub<1.0,>=0.16.4->tokenizers<1,>=0.15->cohere) (24.2)\n",
            "Requirement already satisfied: pyyaml>=5.1 in /usr/local/lib/python3.11/dist-packages (from huggingface-hub<1.0,>=0.16.4->tokenizers<1,>=0.15->cohere) (6.0.2)\n",
            "Requirement already satisfied: tqdm>=4.42.1 in /usr/local/lib/python3.11/dist-packages (from huggingface-hub<1.0,>=0.16.4->tokenizers<1,>=0.15->cohere) (4.67.1)\n",
            "Requirement already satisfied: sniffio>=1.1 in /usr/local/lib/python3.11/dist-packages (from anyio->httpx>=0.21.2->cohere) (1.3.1)\n",
            "Downloading cohere-5.15.0-py3-none-any.whl (259 kB)\n",
            "\u001b[2K   \u001b[90m━━━━━━━━━━━━━━━━━━━━━━━━━━━━━━━━━━━━━━━━\u001b[0m \u001b[32m259.5/259.5 kB\u001b[0m \u001b[31m5.9 MB/s\u001b[0m eta \u001b[36m0:00:00\u001b[0m\n",
            "\u001b[?25hDownloading httpx_sse-0.4.0-py3-none-any.whl (7.8 kB)\n",
            "Downloading fastavro-1.10.0-cp311-cp311-manylinux_2_17_x86_64.manylinux2014_x86_64.whl (3.3 MB)\n",
            "\u001b[2K   \u001b[90m━━━━━━━━━━━━━━━━━━━━━━━━━━━━━━━━━━━━━━━━\u001b[0m \u001b[32m3.3/3.3 MB\u001b[0m \u001b[31m32.8 MB/s\u001b[0m eta \u001b[36m0:00:00\u001b[0m\n",
            "\u001b[?25hDownloading types_requests-2.32.0.20250328-py3-none-any.whl (20 kB)\n",
            "Installing collected packages: types-requests, httpx-sse, fastavro, cohere\n",
            "Successfully installed cohere-5.15.0 fastavro-1.10.0 httpx-sse-0.4.0 types-requests-2.32.0.20250328\n",
            "Collecting faiss-cpu\n",
            "  Downloading faiss_cpu-1.10.0-cp311-cp311-manylinux_2_28_x86_64.whl.metadata (4.4 kB)\n",
            "Requirement already satisfied: numpy<3.0,>=1.25.0 in /usr/local/lib/python3.11/dist-packages (from faiss-cpu) (2.0.2)\n",
            "Requirement already satisfied: packaging in /usr/local/lib/python3.11/dist-packages (from faiss-cpu) (24.2)\n",
            "Downloading faiss_cpu-1.10.0-cp311-cp311-manylinux_2_28_x86_64.whl (30.7 MB)\n",
            "\u001b[2K   \u001b[90m━━━━━━━━━━━━━━━━━━━━━━━━━━━━━━━━━━━━━━━━\u001b[0m \u001b[32m30.7/30.7 MB\u001b[0m \u001b[31m60.0 MB/s\u001b[0m eta \u001b[36m0:00:00\u001b[0m\n",
            "\u001b[?25hInstalling collected packages: faiss-cpu\n",
            "Successfully installed faiss-cpu-1.10.0\n",
            "Requirement already satisfied: tqdm in /usr/local/lib/python3.11/dist-packages (4.67.1)\n"
          ]
        }
      ],
      "source": [
        "!pip install datasets\n",
        "!pip install pandas\n",
        "!pip install openai\n",
        "!pip install tiktoken\n",
        "!pip install matplotlib\n",
        "!pip install requests\n",
        "!pip install cohere\n",
        "!pip install faiss-cpu\n",
        "!pip install tqdm"
      ]
    },
    {
      "cell_type": "code",
      "source": [
        "import requests\n",
        "import pandas as pd\n",
        "import matplotlib.pyplot as plt\n",
        "import cohere\n",
        "import openai\n",
        "import os\n",
        "import time\n",
        "import json\n",
        "import faiss\n",
        "import numpy as np"
      ],
      "metadata": {
        "id": "2rTjMWe_275a"
      },
      "execution_count": 2,
      "outputs": []
    },
    {
      "cell_type": "code",
      "source": [
        "# URL of the JSONL file\n",
        "url = \"https://huggingface.co/datasets/McAuley-Lab/Amazon-Reviews-2023/resolve/main/raw/meta_categories/meta_Amazon_Fashion.jsonl\"\n",
        "\n",
        "# Local filename to save the file\n",
        "output_file = \"meta_Amazon_Fashion.jsonl\"\n",
        "\n",
        "# Send GET request\n",
        "response = requests.get(url, stream=True)\n",
        "\n",
        "# Check if request was successful\n",
        "if response.status_code == 200:\n",
        "    with open(output_file, 'wb') as f:\n",
        "        for chunk in response.iter_content(chunk_size=8192):\n",
        "            f.write(chunk)\n",
        "    print(f\"File downloaded successfully and saved as '{output_file}'\")\n",
        "else:\n",
        "    print(f\"Failed to download file. Status code: {response.status_code}\")"
      ],
      "metadata": {
        "colab": {
          "base_uri": "https://localhost:8080/"
        },
        "id": "x3qwIWLd2__F",
        "outputId": "9147ac9b-16df-4246-bccd-9aab7632b870"
      },
      "execution_count": 3,
      "outputs": [
        {
          "output_type": "stream",
          "name": "stdout",
          "text": [
            "File downloaded successfully and saved as 'meta_Amazon_Fashion.jsonl'\n"
          ]
        }
      ]
    },
    {
      "cell_type": "markdown",
      "source": [
        "## OpenAI and Cohere API setups"
      ],
      "metadata": {
        "id": "Pmwae0SU5A0H"
      }
    },
    {
      "cell_type": "code",
      "source": [
        "from google.colab import userdata\n",
        "openai.api_key = userdata.get('openai')"
      ],
      "metadata": {
        "id": "o7ny5epG5GNG"
      },
      "execution_count": 4,
      "outputs": []
    },
    {
      "cell_type": "code",
      "source": [
        "os.environ[\"COHERE_API_KEY\"] = userdata.get('cohere')"
      ],
      "metadata": {
        "id": "Tfa_Je335bT2"
      },
      "execution_count": 5,
      "outputs": []
    },
    {
      "cell_type": "markdown",
      "source": [
        "## Data preparation"
      ],
      "metadata": {
        "id": "NW-2c2ga-UHJ"
      }
    },
    {
      "cell_type": "code",
      "source": [
        "EXTRACT_SIZE = 2000"
      ],
      "metadata": {
        "id": "KmhOF0rYP0VR"
      },
      "execution_count": 6,
      "outputs": []
    },
    {
      "cell_type": "code",
      "source": [
        "# Path to the JSONL file\n",
        "file_path = \"meta_Amazon_Fashion.jsonl\"\n",
        "\n",
        "# Load JSONL into a pandas DataFrame\n",
        "#extract_df = pd.read_json(file_path, lines=True)\n",
        "\n",
        "# Read the first lines manually\n",
        "with open(file_path, 'r', encoding='utf-8') as f:\n",
        "    lines = [next(f) for _ in range(EXTRACT_SIZE)]\n",
        "\n",
        "# Convert the lines (as strings) into a DataFrame\n",
        "extract_df = pd.read_json(''.join(lines), lines=True)\n"
      ],
      "metadata": {
        "colab": {
          "base_uri": "https://localhost:8080/"
        },
        "id": "7vk6DNg1-ayB",
        "outputId": "f4f786c6-a3d1-4c58-ab4d-70ade2db14b3"
      },
      "execution_count": 7,
      "outputs": [
        {
          "output_type": "stream",
          "name": "stderr",
          "text": [
            "<ipython-input-7-bd98cc441e7c>:12: FutureWarning: Passing literal json to 'read_json' is deprecated and will be removed in a future version. To read from a literal string, wrap it in a 'StringIO' object.\n",
            "  extract_df = pd.read_json(''.join(lines), lines=True)\n"
          ]
        }
      ]
    },
    {
      "cell_type": "code",
      "source": [
        "extract_df['title_array'] = extract_df['title'].apply(lambda x: [x])"
      ],
      "metadata": {
        "id": "vH53T39g-gaN"
      },
      "execution_count": 8,
      "outputs": []
    },
    {
      "cell_type": "code",
      "source": [
        "extract_df['concatenated_arrays'] = (\n",
        "    extract_df\n",
        "    .apply(\n",
        "        lambda row: row['title_array'] + row['description'] + row['features'],\n",
        "        axis=1\n",
        "    )\n",
        ")"
      ],
      "metadata": {
        "id": "OPfa5ryy-qSa"
      },
      "execution_count": 9,
      "outputs": []
    },
    {
      "cell_type": "code",
      "source": [
        "extract_df[\"chunk\"] = extract_df['concatenated_arrays'].apply(lambda x: ' '.join(x))"
      ],
      "metadata": {
        "id": "dnZzxbUV-tzO"
      },
      "execution_count": 10,
      "outputs": []
    },
    {
      "cell_type": "code",
      "source": [
        "extract_df.head(2)"
      ],
      "metadata": {
        "colab": {
          "base_uri": "https://localhost:8080/",
          "height": 306
        },
        "id": "UII3cXy7-9tL",
        "outputId": "226ae807-b269-4e5f-b3b4-f14db157dd14"
      },
      "execution_count": 11,
      "outputs": [
        {
          "output_type": "execute_result",
          "data": {
            "text/plain": [
              "    main_category                                              title  \\\n",
              "0  AMAZON FASHION  YUEDGE 5 Pairs Men's Moisture Control Cushione...   \n",
              "1  AMAZON FASHION  DouBCQ Women's Palazzo Lounge Wide Leg Casual ...   \n",
              "\n",
              "   average_rating  rating_number                            features  \\\n",
              "0             4.6             16                                  []   \n",
              "1             4.1              7  [Drawstring closure, Machine Wash]   \n",
              "\n",
              "  description  price                                             images  \\\n",
              "0          []    NaN  [{'thumb': 'https://m.media-amazon.com/images/...   \n",
              "1          []    NaN  [{'thumb': 'https://m.media-amazon.com/images/...   \n",
              "\n",
              "  videos     store categories  \\\n",
              "0     []  GiveGift         []   \n",
              "1     []    DouBCQ         []   \n",
              "\n",
              "                                             details parent_asin  \\\n",
              "0  {'Package Dimensions': '10.31 x 8.5 x 1.73 inc...  B08BHN9PK5   \n",
              "1  {'Package Dimensions': '15 x 10.2 x 0.4 inches...  B08R39MRDW   \n",
              "\n",
              "   bought_together                                        title_array  \\\n",
              "0              NaN  [YUEDGE 5 Pairs Men's Moisture Control Cushion...   \n",
              "1              NaN  [DouBCQ Women's Palazzo Lounge Wide Leg Casual...   \n",
              "\n",
              "                                 concatenated_arrays  \\\n",
              "0  [YUEDGE 5 Pairs Men's Moisture Control Cushion...   \n",
              "1  [DouBCQ Women's Palazzo Lounge Wide Leg Casual...   \n",
              "\n",
              "                                               chunk  \n",
              "0  YUEDGE 5 Pairs Men's Moisture Control Cushione...  \n",
              "1  DouBCQ Women's Palazzo Lounge Wide Leg Casual ...  "
            ],
            "text/html": [
              "\n",
              "  <div id=\"df-ef291ae1-dbf0-41a6-ad2e-042827567d91\" class=\"colab-df-container\">\n",
              "    <div>\n",
              "<style scoped>\n",
              "    .dataframe tbody tr th:only-of-type {\n",
              "        vertical-align: middle;\n",
              "    }\n",
              "\n",
              "    .dataframe tbody tr th {\n",
              "        vertical-align: top;\n",
              "    }\n",
              "\n",
              "    .dataframe thead th {\n",
              "        text-align: right;\n",
              "    }\n",
              "</style>\n",
              "<table border=\"1\" class=\"dataframe\">\n",
              "  <thead>\n",
              "    <tr style=\"text-align: right;\">\n",
              "      <th></th>\n",
              "      <th>main_category</th>\n",
              "      <th>title</th>\n",
              "      <th>average_rating</th>\n",
              "      <th>rating_number</th>\n",
              "      <th>features</th>\n",
              "      <th>description</th>\n",
              "      <th>price</th>\n",
              "      <th>images</th>\n",
              "      <th>videos</th>\n",
              "      <th>store</th>\n",
              "      <th>categories</th>\n",
              "      <th>details</th>\n",
              "      <th>parent_asin</th>\n",
              "      <th>bought_together</th>\n",
              "      <th>title_array</th>\n",
              "      <th>concatenated_arrays</th>\n",
              "      <th>chunk</th>\n",
              "    </tr>\n",
              "  </thead>\n",
              "  <tbody>\n",
              "    <tr>\n",
              "      <th>0</th>\n",
              "      <td>AMAZON FASHION</td>\n",
              "      <td>YUEDGE 5 Pairs Men's Moisture Control Cushione...</td>\n",
              "      <td>4.6</td>\n",
              "      <td>16</td>\n",
              "      <td>[]</td>\n",
              "      <td>[]</td>\n",
              "      <td>NaN</td>\n",
              "      <td>[{'thumb': 'https://m.media-amazon.com/images/...</td>\n",
              "      <td>[]</td>\n",
              "      <td>GiveGift</td>\n",
              "      <td>[]</td>\n",
              "      <td>{'Package Dimensions': '10.31 x 8.5 x 1.73 inc...</td>\n",
              "      <td>B08BHN9PK5</td>\n",
              "      <td>NaN</td>\n",
              "      <td>[YUEDGE 5 Pairs Men's Moisture Control Cushion...</td>\n",
              "      <td>[YUEDGE 5 Pairs Men's Moisture Control Cushion...</td>\n",
              "      <td>YUEDGE 5 Pairs Men's Moisture Control Cushione...</td>\n",
              "    </tr>\n",
              "    <tr>\n",
              "      <th>1</th>\n",
              "      <td>AMAZON FASHION</td>\n",
              "      <td>DouBCQ Women's Palazzo Lounge Wide Leg Casual ...</td>\n",
              "      <td>4.1</td>\n",
              "      <td>7</td>\n",
              "      <td>[Drawstring closure, Machine Wash]</td>\n",
              "      <td>[]</td>\n",
              "      <td>NaN</td>\n",
              "      <td>[{'thumb': 'https://m.media-amazon.com/images/...</td>\n",
              "      <td>[]</td>\n",
              "      <td>DouBCQ</td>\n",
              "      <td>[]</td>\n",
              "      <td>{'Package Dimensions': '15 x 10.2 x 0.4 inches...</td>\n",
              "      <td>B08R39MRDW</td>\n",
              "      <td>NaN</td>\n",
              "      <td>[DouBCQ Women's Palazzo Lounge Wide Leg Casual...</td>\n",
              "      <td>[DouBCQ Women's Palazzo Lounge Wide Leg Casual...</td>\n",
              "      <td>DouBCQ Women's Palazzo Lounge Wide Leg Casual ...</td>\n",
              "    </tr>\n",
              "  </tbody>\n",
              "</table>\n",
              "</div>\n",
              "    <div class=\"colab-df-buttons\">\n",
              "\n",
              "  <div class=\"colab-df-container\">\n",
              "    <button class=\"colab-df-convert\" onclick=\"convertToInteractive('df-ef291ae1-dbf0-41a6-ad2e-042827567d91')\"\n",
              "            title=\"Convert this dataframe to an interactive table.\"\n",
              "            style=\"display:none;\">\n",
              "\n",
              "  <svg xmlns=\"http://www.w3.org/2000/svg\" height=\"24px\" viewBox=\"0 -960 960 960\">\n",
              "    <path d=\"M120-120v-720h720v720H120Zm60-500h600v-160H180v160Zm220 220h160v-160H400v160Zm0 220h160v-160H400v160ZM180-400h160v-160H180v160Zm440 0h160v-160H620v160ZM180-180h160v-160H180v160Zm440 0h160v-160H620v160Z\"/>\n",
              "  </svg>\n",
              "    </button>\n",
              "\n",
              "  <style>\n",
              "    .colab-df-container {\n",
              "      display:flex;\n",
              "      gap: 12px;\n",
              "    }\n",
              "\n",
              "    .colab-df-convert {\n",
              "      background-color: #E8F0FE;\n",
              "      border: none;\n",
              "      border-radius: 50%;\n",
              "      cursor: pointer;\n",
              "      display: none;\n",
              "      fill: #1967D2;\n",
              "      height: 32px;\n",
              "      padding: 0 0 0 0;\n",
              "      width: 32px;\n",
              "    }\n",
              "\n",
              "    .colab-df-convert:hover {\n",
              "      background-color: #E2EBFA;\n",
              "      box-shadow: 0px 1px 2px rgba(60, 64, 67, 0.3), 0px 1px 3px 1px rgba(60, 64, 67, 0.15);\n",
              "      fill: #174EA6;\n",
              "    }\n",
              "\n",
              "    .colab-df-buttons div {\n",
              "      margin-bottom: 4px;\n",
              "    }\n",
              "\n",
              "    [theme=dark] .colab-df-convert {\n",
              "      background-color: #3B4455;\n",
              "      fill: #D2E3FC;\n",
              "    }\n",
              "\n",
              "    [theme=dark] .colab-df-convert:hover {\n",
              "      background-color: #434B5C;\n",
              "      box-shadow: 0px 1px 3px 1px rgba(0, 0, 0, 0.15);\n",
              "      filter: drop-shadow(0px 1px 2px rgba(0, 0, 0, 0.3));\n",
              "      fill: #FFFFFF;\n",
              "    }\n",
              "  </style>\n",
              "\n",
              "    <script>\n",
              "      const buttonEl =\n",
              "        document.querySelector('#df-ef291ae1-dbf0-41a6-ad2e-042827567d91 button.colab-df-convert');\n",
              "      buttonEl.style.display =\n",
              "        google.colab.kernel.accessAllowed ? 'block' : 'none';\n",
              "\n",
              "      async function convertToInteractive(key) {\n",
              "        const element = document.querySelector('#df-ef291ae1-dbf0-41a6-ad2e-042827567d91');\n",
              "        const dataTable =\n",
              "          await google.colab.kernel.invokeFunction('convertToInteractive',\n",
              "                                                    [key], {});\n",
              "        if (!dataTable) return;\n",
              "\n",
              "        const docLinkHtml = 'Like what you see? Visit the ' +\n",
              "          '<a target=\"_blank\" href=https://colab.research.google.com/notebooks/data_table.ipynb>data table notebook</a>'\n",
              "          + ' to learn more about interactive tables.';\n",
              "        element.innerHTML = '';\n",
              "        dataTable['output_type'] = 'display_data';\n",
              "        await google.colab.output.renderOutput(dataTable, element);\n",
              "        const docLink = document.createElement('div');\n",
              "        docLink.innerHTML = docLinkHtml;\n",
              "        element.appendChild(docLink);\n",
              "      }\n",
              "    </script>\n",
              "  </div>\n",
              "\n",
              "\n",
              "<div id=\"df-7dc8a846-6a39-4b52-ac1b-2e7ebee024b3\">\n",
              "  <button class=\"colab-df-quickchart\" onclick=\"quickchart('df-7dc8a846-6a39-4b52-ac1b-2e7ebee024b3')\"\n",
              "            title=\"Suggest charts\"\n",
              "            style=\"display:none;\">\n",
              "\n",
              "<svg xmlns=\"http://www.w3.org/2000/svg\" height=\"24px\"viewBox=\"0 0 24 24\"\n",
              "     width=\"24px\">\n",
              "    <g>\n",
              "        <path d=\"M19 3H5c-1.1 0-2 .9-2 2v14c0 1.1.9 2 2 2h14c1.1 0 2-.9 2-2V5c0-1.1-.9-2-2-2zM9 17H7v-7h2v7zm4 0h-2V7h2v10zm4 0h-2v-4h2v4z\"/>\n",
              "    </g>\n",
              "</svg>\n",
              "  </button>\n",
              "\n",
              "<style>\n",
              "  .colab-df-quickchart {\n",
              "      --bg-color: #E8F0FE;\n",
              "      --fill-color: #1967D2;\n",
              "      --hover-bg-color: #E2EBFA;\n",
              "      --hover-fill-color: #174EA6;\n",
              "      --disabled-fill-color: #AAA;\n",
              "      --disabled-bg-color: #DDD;\n",
              "  }\n",
              "\n",
              "  [theme=dark] .colab-df-quickchart {\n",
              "      --bg-color: #3B4455;\n",
              "      --fill-color: #D2E3FC;\n",
              "      --hover-bg-color: #434B5C;\n",
              "      --hover-fill-color: #FFFFFF;\n",
              "      --disabled-bg-color: #3B4455;\n",
              "      --disabled-fill-color: #666;\n",
              "  }\n",
              "\n",
              "  .colab-df-quickchart {\n",
              "    background-color: var(--bg-color);\n",
              "    border: none;\n",
              "    border-radius: 50%;\n",
              "    cursor: pointer;\n",
              "    display: none;\n",
              "    fill: var(--fill-color);\n",
              "    height: 32px;\n",
              "    padding: 0;\n",
              "    width: 32px;\n",
              "  }\n",
              "\n",
              "  .colab-df-quickchart:hover {\n",
              "    background-color: var(--hover-bg-color);\n",
              "    box-shadow: 0 1px 2px rgba(60, 64, 67, 0.3), 0 1px 3px 1px rgba(60, 64, 67, 0.15);\n",
              "    fill: var(--button-hover-fill-color);\n",
              "  }\n",
              "\n",
              "  .colab-df-quickchart-complete:disabled,\n",
              "  .colab-df-quickchart-complete:disabled:hover {\n",
              "    background-color: var(--disabled-bg-color);\n",
              "    fill: var(--disabled-fill-color);\n",
              "    box-shadow: none;\n",
              "  }\n",
              "\n",
              "  .colab-df-spinner {\n",
              "    border: 2px solid var(--fill-color);\n",
              "    border-color: transparent;\n",
              "    border-bottom-color: var(--fill-color);\n",
              "    animation:\n",
              "      spin 1s steps(1) infinite;\n",
              "  }\n",
              "\n",
              "  @keyframes spin {\n",
              "    0% {\n",
              "      border-color: transparent;\n",
              "      border-bottom-color: var(--fill-color);\n",
              "      border-left-color: var(--fill-color);\n",
              "    }\n",
              "    20% {\n",
              "      border-color: transparent;\n",
              "      border-left-color: var(--fill-color);\n",
              "      border-top-color: var(--fill-color);\n",
              "    }\n",
              "    30% {\n",
              "      border-color: transparent;\n",
              "      border-left-color: var(--fill-color);\n",
              "      border-top-color: var(--fill-color);\n",
              "      border-right-color: var(--fill-color);\n",
              "    }\n",
              "    40% {\n",
              "      border-color: transparent;\n",
              "      border-right-color: var(--fill-color);\n",
              "      border-top-color: var(--fill-color);\n",
              "    }\n",
              "    60% {\n",
              "      border-color: transparent;\n",
              "      border-right-color: var(--fill-color);\n",
              "    }\n",
              "    80% {\n",
              "      border-color: transparent;\n",
              "      border-right-color: var(--fill-color);\n",
              "      border-bottom-color: var(--fill-color);\n",
              "    }\n",
              "    90% {\n",
              "      border-color: transparent;\n",
              "      border-bottom-color: var(--fill-color);\n",
              "    }\n",
              "  }\n",
              "</style>\n",
              "\n",
              "  <script>\n",
              "    async function quickchart(key) {\n",
              "      const quickchartButtonEl =\n",
              "        document.querySelector('#' + key + ' button');\n",
              "      quickchartButtonEl.disabled = true;  // To prevent multiple clicks.\n",
              "      quickchartButtonEl.classList.add('colab-df-spinner');\n",
              "      try {\n",
              "        const charts = await google.colab.kernel.invokeFunction(\n",
              "            'suggestCharts', [key], {});\n",
              "      } catch (error) {\n",
              "        console.error('Error during call to suggestCharts:', error);\n",
              "      }\n",
              "      quickchartButtonEl.classList.remove('colab-df-spinner');\n",
              "      quickchartButtonEl.classList.add('colab-df-quickchart-complete');\n",
              "    }\n",
              "    (() => {\n",
              "      let quickchartButtonEl =\n",
              "        document.querySelector('#df-7dc8a846-6a39-4b52-ac1b-2e7ebee024b3 button');\n",
              "      quickchartButtonEl.style.display =\n",
              "        google.colab.kernel.accessAllowed ? 'block' : 'none';\n",
              "    })();\n",
              "  </script>\n",
              "</div>\n",
              "\n",
              "    </div>\n",
              "  </div>\n"
            ],
            "application/vnd.google.colaboratory.intrinsic+json": {
              "type": "dataframe",
              "variable_name": "extract_df",
              "summary": "{\n  \"name\": \"extract_df\",\n  \"rows\": 2000,\n  \"fields\": [\n    {\n      \"column\": \"main_category\",\n      \"properties\": {\n        \"dtype\": \"category\",\n        \"num_unique_values\": 1,\n        \"samples\": [\n          \"AMAZON FASHION\"\n        ],\n        \"semantic_type\": \"\",\n        \"description\": \"\"\n      }\n    },\n    {\n      \"column\": \"title\",\n      \"properties\": {\n        \"dtype\": \"string\",\n        \"num_unique_values\": 1998,\n        \"samples\": [\n          \"Lace Affair Underwire Balcony Bra Blue Print/Chocolate Brown US 34F\"\n        ],\n        \"semantic_type\": \"\",\n        \"description\": \"\"\n      }\n    },\n    {\n      \"column\": \"average_rating\",\n      \"properties\": {\n        \"dtype\": \"number\",\n        \"std\": 0.9430985711777251,\n        \"min\": 1.0,\n        \"max\": 5.0,\n        \"num_unique_values\": 38,\n        \"samples\": [\n          1.4\n        ],\n        \"semantic_type\": \"\",\n        \"description\": \"\"\n      }\n    },\n    {\n      \"column\": \"rating_number\",\n      \"properties\": {\n        \"dtype\": \"number\",\n        \"std\": 954,\n        \"min\": 1,\n        \"max\": 36058,\n        \"num_unique_values\": 175,\n        \"samples\": [\n          98\n        ],\n        \"semantic_type\": \"\",\n        \"description\": \"\"\n      }\n    },\n    {\n      \"column\": \"features\",\n      \"properties\": {\n        \"dtype\": \"object\",\n        \"semantic_type\": \"\",\n        \"description\": \"\"\n      }\n    },\n    {\n      \"column\": \"description\",\n      \"properties\": {\n        \"dtype\": \"object\",\n        \"semantic_type\": \"\",\n        \"description\": \"\"\n      }\n    },\n    {\n      \"column\": \"price\",\n      \"properties\": {\n        \"dtype\": \"number\",\n        \"std\": 40.65461479796795,\n        \"min\": 0.99,\n        \"max\": 395.0,\n        \"num_unique_values\": 155,\n        \"samples\": [\n          54.0\n        ],\n        \"semantic_type\": \"\",\n        \"description\": \"\"\n      }\n    },\n    {\n      \"column\": \"images\",\n      \"properties\": {\n        \"dtype\": \"object\",\n        \"semantic_type\": \"\",\n        \"description\": \"\"\n      }\n    },\n    {\n      \"column\": \"videos\",\n      \"properties\": {\n        \"dtype\": \"object\",\n        \"semantic_type\": \"\",\n        \"description\": \"\"\n      }\n    },\n    {\n      \"column\": \"store\",\n      \"properties\": {\n        \"dtype\": \"string\",\n        \"num_unique_values\": 1624,\n        \"samples\": [\n          \"Gloria Vanderbilt\"\n        ],\n        \"semantic_type\": \"\",\n        \"description\": \"\"\n      }\n    },\n    {\n      \"column\": \"categories\",\n      \"properties\": {\n        \"dtype\": \"object\",\n        \"semantic_type\": \"\",\n        \"description\": \"\"\n      }\n    },\n    {\n      \"column\": \"details\",\n      \"properties\": {\n        \"dtype\": \"object\",\n        \"semantic_type\": \"\",\n        \"description\": \"\"\n      }\n    },\n    {\n      \"column\": \"parent_asin\",\n      \"properties\": {\n        \"dtype\": \"string\",\n        \"num_unique_values\": 2000,\n        \"samples\": [\n          \"B0751XF8D2\"\n        ],\n        \"semantic_type\": \"\",\n        \"description\": \"\"\n      }\n    },\n    {\n      \"column\": \"bought_together\",\n      \"properties\": {\n        \"dtype\": \"number\",\n        \"std\": null,\n        \"min\": null,\n        \"max\": null,\n        \"num_unique_values\": 0,\n        \"samples\": [],\n        \"semantic_type\": \"\",\n        \"description\": \"\"\n      }\n    },\n    {\n      \"column\": \"title_array\",\n      \"properties\": {\n        \"dtype\": \"object\",\n        \"semantic_type\": \"\",\n        \"description\": \"\"\n      }\n    },\n    {\n      \"column\": \"concatenated_arrays\",\n      \"properties\": {\n        \"dtype\": \"object\",\n        \"semantic_type\": \"\",\n        \"description\": \"\"\n      }\n    },\n    {\n      \"column\": \"chunk\",\n      \"properties\": {\n        \"dtype\": \"string\",\n        \"num_unique_values\": 1999,\n        \"samples\": [],\n        \"semantic_type\": \"\",\n        \"description\": \"\"\n      }\n    }\n  ]\n}"
            }
          },
          "metadata": {},
          "execution_count": 11
        }
      ]
    },
    {
      "cell_type": "code",
      "source": [
        "# Create the dictionary\n",
        "chunks_dict = {np.int64(idx): desc for idx, desc in extract_df['chunk'].items()}\n",
        "data = list(chunks_dict.values())\n",
        "ids = np.array(list(chunks_dict.keys()))"
      ],
      "metadata": {
        "id": "1-VGPklA_Dk-"
      },
      "execution_count": 12,
      "outputs": []
    },
    {
      "cell_type": "code",
      "source": [
        "chunks_dict[0]"
      ],
      "metadata": {
        "colab": {
          "base_uri": "https://localhost:8080/",
          "height": 35
        },
        "id": "smay-8_-_uth",
        "outputId": "6758007e-79f7-4701-bc62-5e77a40551a0"
      },
      "execution_count": 13,
      "outputs": [
        {
          "output_type": "execute_result",
          "data": {
            "text/plain": [
              "\"YUEDGE 5 Pairs Men's Moisture Control Cushioned Dry Fit Casual Athletic Crew Socks for Men (Blue, Size 9-12)\""
            ],
            "application/vnd.google.colaboratory.intrinsic+json": {
              "type": "string"
            }
          },
          "metadata": {},
          "execution_count": 13
        }
      ]
    },
    {
      "cell_type": "markdown",
      "source": [
        "# Proto"
      ],
      "metadata": {
        "id": "qBAJz6fNC3vn"
      }
    },
    {
      "cell_type": "markdown",
      "source": [
        "## Create vector DB"
      ],
      "metadata": {
        "id": "wxq9OyjC48Iy"
      }
    },
    {
      "cell_type": "code",
      "source": [
        "embed_model=\"text-embedding-3-large\"\n",
        "dimension = 3072\n",
        "index_flat = faiss.IndexFlatL2(dimension)  # L2 (Euclidean) distance\n",
        "index = faiss.IndexIDMap(index_flat)       # Wrap to support custom IDs"
      ],
      "metadata": {
        "id": "hFvmPayb-DsI"
      },
      "execution_count": 14,
      "outputs": []
    },
    {
      "cell_type": "code",
      "source": [
        "def embed(batch: list[str]) -> list[float]:\n",
        "    # create embeddings (exponential backoff to avoid RateLimitError)\n",
        "    for j in range(5):  # max 5 retries\n",
        "        try:\n",
        "            res = openai.embeddings.create(\n",
        "                input=batch,\n",
        "                model=embed_model\n",
        "            )\n",
        "            passed = True\n",
        "        except openai.RateLimitError:\n",
        "            time.sleep(2**j)  # wait 2^j seconds before retrying\n",
        "            print(\"Retrying...\")\n",
        "    if not passed:\n",
        "        raise RuntimeError(\"Failed to create embeddings.\")\n",
        "    # get embeddings\n",
        "    embeds = np.array([record.embedding for record in res.data])\n",
        "    return embeds"
      ],
      "metadata": {
        "id": "yPKBiSLw4xe3"
      },
      "execution_count": 15,
      "outputs": []
    },
    {
      "cell_type": "code",
      "source": [
        "from tqdm.auto import tqdm\n",
        "from datetime import datetime\n",
        "\n",
        "batch_size = 1000  # how many embeddings we create and insert at once\n",
        "count_batch = 1\n",
        "for i in tqdm(range(0, len(data), batch_size)):\n",
        "    passed = False\n",
        "    # find end of batch\n",
        "    i_end = min(len(data), i+batch_size)\n",
        "    # create batch\n",
        "    batch = data[i:i_end]\n",
        "    print(batch[0])\n",
        "    print(len(batch))\n",
        "    embeds = embed(batch)\n",
        "    # Final Step: Add vectors with corresponding IDs\n",
        "    index.add_with_ids(embeds, ids[i:i_end])\n",
        "    # Checkpointing and saving\n",
        "    if count_batch % 100 == 0:\n",
        "      current_time = datetime.now().strftime(\"%Y%m%d%H%M%S\")\n",
        "      index_path = \"indices/checkpoint_\" + str(count_batch) + \"_faiss_size_\" + str(len(data)) + \"_\" + embed_model + \"_\" + current_time + \".index\"\n",
        "      faiss.write_index(index, index_path)\n",
        "    count_batch += 1\n",
        "\n",
        "\n",
        "# Save the index to a file\n",
        "# Current time\n",
        "current_time = datetime.now().strftime(\"%Y%m%d%H%M%S\")\n",
        "index_path = \"indices/faiss_size_\" + str(len(data)) + \"_\" + embed_model + \"_\" + current_time + \".index\"\n",
        "faiss.write_index(index, index_path)"
      ],
      "metadata": {
        "colab": {
          "base_uri": "https://localhost:8080/",
          "height": 118,
          "referenced_widgets": [
            "3996d9658d244ea9b2fb45e64a013eac",
            "233e07cebe65414896c9352fa87c69be",
            "8c5680949a264588ad7d19969431a49e",
            "0569330b9ef74a86b731236b33752a0c",
            "b34c3fba2e384984be74c785f3cac7b6",
            "64714f7c91634fb68575e05e397913a8",
            "04277ad9dec74d7e9efe89468b27c090",
            "b4f66bb3b67d4611b94265f83b0cba07",
            "4035a5724cc1458885ac668b444800bd",
            "fd3dc1dccd7b4338b7839cbf96190d72",
            "a0806afc897f4dc4862d29419a584edc"
          ]
        },
        "id": "_4mc7nJq7ic6",
        "outputId": "017b3141-cd4c-4c41-e180-ae1e5e425d8e"
      },
      "execution_count": 16,
      "outputs": [
        {
          "output_type": "display_data",
          "data": {
            "text/plain": [
              "  0%|          | 0/2 [00:00<?, ?it/s]"
            ],
            "application/vnd.jupyter.widget-view+json": {
              "version_major": 2,
              "version_minor": 0,
              "model_id": "3996d9658d244ea9b2fb45e64a013eac"
            }
          },
          "metadata": {}
        },
        {
          "output_type": "stream",
          "name": "stdout",
          "text": [
            "YUEDGE 5 Pairs Men's Moisture Control Cushioned Dry Fit Casual Athletic Crew Socks for Men (Blue, Size 9-12)\n",
            "1000\n",
            "YEAQING Women Jogger Sweatpants Drawstring Workout Running Cargo Pants High Waisted Lounge Pants with Pockets Drawstring closure\n",
            "1000\n"
          ]
        }
      ]
    },
    {
      "cell_type": "code",
      "source": [
        "current_time = datetime.now().strftime(\"%Y%m%d%H%M%S\")\n",
        "index_path = \"indices/checkpoint_\" + str(count_batch) + \"_faiss_size_\" + str(len(data)) + \"_\" + embed_model + \"_\" + current_time + \".index\"\n",
        "faiss.write_index(index, index_path)"
      ],
      "metadata": {
        "id": "NgA5RzN0WP22"
      },
      "execution_count": 17,
      "outputs": []
    },
    {
      "cell_type": "markdown",
      "source": [
        "## Retriever"
      ],
      "metadata": {
        "id": "gH9ts7g2C0fj"
      }
    },
    {
      "cell_type": "code",
      "source": [
        "def get_docs(query: str, top_k: int) -> list[str]:\n",
        "    # encode query\n",
        "    xq = embed([query])\n",
        "    # search pinecone index\n",
        "    D, I = index.search(xq, k=top_k) # distance, index\n",
        "    # get doc text\n",
        "    doc_to_index_id = {chunks_dict[idx]: (rank, idx) for rank, idx in enumerate(I.tolist()[0])}\n",
        "    return doc_to_index_id"
      ],
      "metadata": {
        "id": "nEv53VnyCz4Z"
      },
      "execution_count": 18,
      "outputs": []
    },
    {
      "cell_type": "code",
      "source": [
        "query = \"I want a nice beige dress for a wedding.\"\n",
        "doc_to_index_id = get_docs(query, top_k=50)"
      ],
      "metadata": {
        "id": "8KiOF-uPBrsQ"
      },
      "execution_count": 19,
      "outputs": []
    },
    {
      "cell_type": "markdown",
      "source": [
        "## Reranker"
      ],
      "metadata": {
        "id": "yH-o3QovFRG2"
      }
    },
    {
      "cell_type": "code",
      "source": [
        "co = cohere.Client(os.environ[\"COHERE_API_KEY\"])"
      ],
      "metadata": {
        "id": "nkd_bZ-iFpS4"
      },
      "execution_count": 20,
      "outputs": []
    },
    {
      "cell_type": "code",
      "source": [
        "documents=list(doc_to_index_id.keys())"
      ],
      "metadata": {
        "id": "lRyWp7FRK1JX"
      },
      "execution_count": 21,
      "outputs": []
    },
    {
      "cell_type": "code",
      "source": [
        "rerank_docs = co.rerank(\n",
        "    query=query, documents=documents, top_n=5, model=\"rerank-english-v2.0\"\n",
        ")"
      ],
      "metadata": {
        "id": "Ciny_byPE78h"
      },
      "execution_count": 22,
      "outputs": []
    },
    {
      "cell_type": "code",
      "source": [
        "# Display the reranking results\n",
        "def return_results(results, documents, doc_to_index_id):\n",
        "    for idx, result in enumerate(results.results):\n",
        "        print(f\"Rank: {idx+1}\")\n",
        "        print(f\"Rank before rerank: {result.index}\")\n",
        "        print(f\"Rank before rerank: {doc_to_index_id[documents[result.index]][0]+1}\")\n",
        "        print(f\"Score: {result.relevance_score}\")\n",
        "        print(f\"Document: {documents[result.index]}\")\n",
        "        print(f\"Index in Vectr DB: {doc_to_index_id[documents[result.index]][1]}\")\n",
        "        print(\"============================================================\")\n",
        "        print(\"VALIDATE POSITION IN DB\")\n",
        "        print(documents[result.index]==data[doc_to_index_id[documents[result.index]][1]])\n",
        "        print(\"============================================================\")\n",
        "        print(\"\\n\")\n",
        "return_results(rerank_docs, documents, doc_to_index_id)"
      ],
      "metadata": {
        "colab": {
          "base_uri": "https://localhost:8080/"
        },
        "id": "W5qR1ND1Fuhn",
        "outputId": "03f69f59-bf3b-4d9e-e2be-807edbecf22f"
      },
      "execution_count": 23,
      "outputs": [
        {
          "output_type": "stream",
          "name": "stdout",
          "text": [
            "Rank: 1\n",
            "Rank before rerank: 1\n",
            "Rank before rerank: 2\n",
            "Score: 0.58302534\n",
            "Document: Floerns Women's Short Sleeve Flower Casual T-shirt Dress Beige XS Pull On closure Hand Wash Only\n",
            "Index in Vectr DB: 1572\n",
            "============================================================\n",
            "VALIDATE POSITION IN DB\n",
            "True\n",
            "============================================================\n",
            "\n",
            "\n",
            "Rank: 2\n",
            "Rank before rerank: 3\n",
            "Rank before rerank: 4\n",
            "Score: 0.29279748\n",
            "Document: Womens Casual T Shirt Dress 3/4 Sleeve Floral Loose Shift Dress Tunic Sundress 2X-Large Black Beige\n",
            "Index in Vectr DB: 161\n",
            "============================================================\n",
            "VALIDATE POSITION IN DB\n",
            "True\n",
            "============================================================\n",
            "\n",
            "\n",
            "Rank: 3\n",
            "Rank before rerank: 34\n",
            "Rank before rerank: 35\n",
            "Score: 0.21452682\n",
            "Document: Lover Kiss Women's Mother Of The Bride Maxi Formal Evening Gown 10 Dusty Thistle Zipper closure\n",
            "Index in Vectr DB: 1482\n",
            "============================================================\n",
            "VALIDATE POSITION IN DB\n",
            "True\n",
            "============================================================\n",
            "\n",
            "\n",
            "Rank: 4\n",
            "Rank before rerank: 35\n",
            "Rank before rerank: 36\n",
            "Score: 0.14817041\n",
            "Document: GRACE KARIN 40s Retro Summer Party Dress with Belt Knee Length Wedding Swing Dress Black XL Hand Wash Only\n",
            "Index in Vectr DB: 84\n",
            "============================================================\n",
            "VALIDATE POSITION IN DB\n",
            "True\n",
            "============================================================\n",
            "\n",
            "\n",
            "Rank: 5\n",
            "Rank before rerank: 19\n",
            "Rank before rerank: 20\n",
            "Score: 0.1435475\n",
            "Document: Women's Summer Casual Plus Size Short Sleeve V Neck Bohemian Beach Hippie Soul Letter Print Loose Party Long Maxi Dress 🌹Size Detials🌹 Size ---Bust ---Sleeve ---Length S ---102cm/40.16'' ---58cm/22.83'' ---135cm/53.15'' M ---107cm/42.13'' ---58cm/22.83'' ---135cm/53.15'' L ---112cm/44.09'' ---60cm/23.62'' ---140cm/55.12'' XL ---117cm/46.06'' ---60cm/23.62'' ---140cm/55.12'' XXL ---122cm/48.03'' ---62cm/24.41'' ---147cm/57.87'' XXXL ---127cm/50.00'' ---62cm/24.41'' ---147cm/57.87'' XXXXL ---132cm/51.97'' ---64cm/25.20'' ---147cm/57.87'' XXXXXL ---137cm/53.94'' ---64cm/25.20'' ---147cm/57.87'' ❥M ---84-86cm/33.0-33.9'' ---69cm/27.1'' ---131cm/51.57'' ❥L ---88-90cm/34.6-35.4'' ---70cm/27.56'' ---132cm/51.97'' ❥XL ---102-104cm/40.1-40.9'' ---71cm/27.95'' ---133cm/52.36'' ❥XXL ---106-108cm/41.7-42.5'' ---72cm/28.35'' ---134cm/52.76'' ❥XXXL ---110-112cm/43.3-44.0'' ---73cm/28.74'' ---135cm/53.15'' ❥XXXXL ---114-116cm/44.9-45.7'' ---74cm/29.13'' ---136cm/53.54'' Product information: 🌹Season:All Season 🌹Gender: Women 🌹Occasion:Casual 🌹Material:Polyester 🌹Sleeve Length: Long Sleeve 🌹Package include:1 PC Women Robe+1PC Bandage Clearance!Womens Plus Size(S-4XL) Ethnic Robes Abaya Islamic Muslim Middle East Maxi Dress Bandage Kaftan Casual Loose Party Long Dress Womens Muslim Cardigan Maxi Dress Long Sleeve Casual Loose Kaftan Lady Muslim Gown Embroidery Cocktail Elegant Robe Clearance!Womens Muslim Long Dress Casual Loose Plus Size(XL-5XL) Bandage Kaftan Ethnic Robes Abaya Islamic Middle East Elegant Maxi Dress Lady Muslim Gown Embroidery Cocktail Elegant Robe Party Long Dress Clearance!Womens Muslim Cardigan Maxi Dress Long Sleeve Casual Loose Kaftan Lady Muslim Gown Embroidery Cocktail Elegant Robe Women's Plus Size(S-2xl)Ethnic Beanie Robes Summer Big Clearance! -- Occasion: Casual, Outdoors, Garden, Wedding, Beach, Prom, Bridesmaid, Evening, Homecoming, Cocktail, Party, House Wear. Style: Loose fit,Short Sleeve,V Neck,Casual Daily Maxi Dress ---Women's Sleeveless Waist Pocket Maxi Long Dress Women's Dress American Flag Print Chiffon Sleeveless Tank Dress Women's American Flag Dress - Patriotic USA Red White and Blue Dress American Flag Dress Summer Dresses Swimsuit Cover Up Spaghetti Strap Sleeveless USA American Flag Patriotic Sequin Dress Women 4th July American Flag Stars Stripes Print Short Casual Shirt Dress Women's Sleeveless Star and Stripe Print Summer Casual Tank Maxi Dress USA Flag Women's Summer American Flag Print Beac Women Dresses Plus Size Womens Dresses Special Occasion Womens Dresses Plus Size Womens Dresses Fall Max Dresses For Women Max Dresses For Women With Sleeves Max Dresses For Fall Max Dress Maternity Max Dresses For Women Sexy Midi Dresses For Women Midi Dresses For Women Beach Loose Dresses For Women --maxi beach dresses short summer dresses high waist summer dresses off shoulder summer dresses rayon women beach dress bikini women beach dress cover up women beach dress chiffon beach dress a line women beach dress midi beach dresses swimwear summer dresses for women with pockets summer dresses cold shoulder beach dress boho beach dress coverups for women beach dress elegant beach dresses lace beach dresses long sleeve beach dresses off the shoulder summer dresses for women with buttons summer dresses bodycon summer dresses high low women beach dress petite beach dress with pockets beach dress bohemian beach dress backless beach dress crochet beach dress for women round neck summer dresses for women dresses for wedding guest women midi dresses for wedding women dress for club print midi dresses for women beach dresses for women bohemian beach dresses for women long Maxi Dress ღSHIPPING AND CUSTOMER SERVICES ღStandard Shipping --- 14 - 28 Working Days. Carrier:USPS. ღExpedited Shipping --- 3 - 7 Working Days. Carrier; DHL/EMS./FEDX ღ ღQuality Assurance: If there are quality problems within 30 days, we will refund the full amount, thank you ღIf you have any questions, please contact us in time and we will reply you within 24 hours. We will try our best to make you satisfied.--- button dress for women summer bohemian sundress midi dress knee length beach lace white dress women summer beach dress midi women pencil summer spaghetti strap dress button v neck dress cover up beach dress maxi beach chiffon dress black lace party cocktail ball gown dress long beach chiffon dress summer formal evening dress bohemian halter dress maxi plus size women summer long dress women summer floral dresses backless sexy party women sleeveless swing dress for party evening lace long dress 2019 -- Long Maxi Dress Women's Bohemian Button Up Split Floral Print Flowy Party Dress Women's Adjustable Strappy Split Summer Beach Casual Midi Dress Women's Dress Sweet & Cute V-Ne Bell Sleeve Shift Dress Mini Dress Women's Dresses-Summer Floral Bohemian Spaghetti Strap Button Down Swing Midi Dress with Poets Women's Short Sleeve Pleated Loose Swing Casual Dress with Poets Knee Length Women Bohemian Vintage Printed Ethnic Style Summer ♣ Fabric: Polyester.-- Lightweight, soft and stretchy fabric makes you comfortable to wear all day and unique style makes you look more beautiful, stylish and elegant,a must-have item for your wardrobe.--- Women's Classy Audrey Hepburn 1950s Vintage Rockabilly Swing Dress Women’s New Plaids Irregular Hem Casual Shirt Dress Women's Elegant Chic Bodycon Formal Dress Women's Long Sleeve Pleated Loose Swing Casual Dress With Pockets Knee Length Cap Sleeve Lace Neckline Bust Evening Gown ♣ Occasion: Bohemian HIPPIE SOUL Letter print style make this dress great for beach, vacation, wedding, festival formal and daily wear. ---summer dress maxi women summer dress. ♣Women Dress women sundresses women sundresses sexy women sundresses maxi women sundress floral women tshirt dresses women shirt dresses sexy women shirt dresses knee length women shirt dresses plus size women shirt dress long sleevPrint design make this dress elegant which suitable for attending an evening, cocktail party. Bohemian geometric print style make this dress great for beach, vacation, wedding, festival formal and daily wear. ---summer dress maxi women summer dress. ♣Women casual v-neck printed summer beach short spaghetti straps mini dress beach dress for women women beach dress plus size women beach dress sexy beach dress women sundresses sexy maxi women sundress floral casual dresses womens dress womens sleeveless dresses Mini club dress dress T shirt dress sundress chiffon dress womens lace dress Women's 2/3 Sleeve Color block Slim Bodycon Business Pencil Dress Women Sleeveless Beach Casual Flared Floral Tank Dress Women's Long Sleeve Casual Loose. ♣Women's Sleeveless Waist Pocket Maxi Long Dress Women's Dress American Flag Print Chiffon Sleeveless Tank Dress Women's American Flag Dress - Patriotic USA Red White and Blue Dress American Flag Dress Summer Dresses Swimsuit Cover Up Spaghetti Strap Sleeveless USA American Flag Patriotic Sequin Dress Women 4th July American Flag Stars Stripes Print Short Casual Shirt Dress Women's Sleeveless Star and Stripe Print Summer Casual Tank Maxi Dress USA Flag Women's Summer American Flag Print Beach.\n",
            "Index in Vectr DB: 1985\n",
            "============================================================\n",
            "VALIDATE POSITION IN DB\n",
            "True\n",
            "============================================================\n",
            "\n",
            "\n"
          ]
        }
      ]
    },
    {
      "cell_type": "code",
      "source": [],
      "metadata": {
        "id": "b0hV6ObyF1EQ"
      },
      "execution_count": 23,
      "outputs": []
    }
  ]
}